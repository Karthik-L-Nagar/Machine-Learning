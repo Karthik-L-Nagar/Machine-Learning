{
 "cells": [
  {
   "cell_type": "markdown",
   "metadata": {},
   "source": [
    "# Best suited for Globular Clustering Dataset"
   ]
  },
  {
   "cell_type": "markdown",
   "metadata": {},
   "source": [
    "## Here we consider only Input in Amazon Mobile DataSet"
   ]
  },
  {
   "cell_type": "code",
   "execution_count": 1,
   "metadata": {},
   "outputs": [],
   "source": [
    "import pandas as pd\n",
    "import re\n",
    "from nltk.corpus import stopwords\n",
    "import string\n",
    "from nltk.stem.snowball import SnowballStemmer"
   ]
  },
  {
   "cell_type": "code",
   "execution_count": 2,
   "metadata": {},
   "outputs": [
    {
     "name": "stdout",
     "output_type": "stream",
     "text": [
      "(71922, 2)\n"
     ]
    }
   ],
   "source": [
    "# Reading the data file into a DATAFRAME and checking the shape \n",
    "data=pd.read_csv('35.1AmazonMobileDataUncleaned.csv')\n",
    "print(data.shape)"
   ]
  },
  {
   "cell_type": "code",
   "execution_count": 3,
   "metadata": {},
   "outputs": [
    {
     "name": "stdout",
     "output_type": "stream",
     "text": [
      "{'his', 'yourself', 'will', 'were', 'are', 'me', 'while', 'being', 'have', 'needn', 'further', 'more', 'until', \"needn't\", 'who', 'ma', 'no', 'what', 'an', \"doesn't\", \"don't\", 'which', 'this', \"haven't\", \"shan't\", 'other', 'such', 'herself', 'mightn', 'about', 'own', 'wouldn', 'itself', 'nor', 'very', 'myself', 'he', \"hadn't\", \"didn't\", \"mightn't\", 'only', 'so', \"it's\", 'am', 'once', 'does', 'to', \"couldn't\", 'that', 'few', 'with', 'some', 'didn', \"wasn't\", 'all', 'them', 'doing', 'up', 'ain', 'again', 'each', \"you're\", 'hasn', 'after', 'why', 'do', 'wasn', 'her', 'then', 'she', 'where', 'aren', 'ours', 'in', 'hadn', 'shan', 'now', 'if', \"should've\", 'weren', \"wouldn't\", 'of', 'during', 'down', 'yourselves', 'whom', 'a', 'just', 'but', 'as', 'did', 't', 'shouldn', 'was', 'over', 'themselves', \"mustn't\", 'you', 'both', 'they', 'we', 'our', 'between', 'ourselves', 'off', \"shouldn't\", 'couldn', 'don', 'haven', 'into', 'above', 'mustn', 'is', 'for', 'my', 'been', 'yours', 'those', 'same', 'the', 'below', 'has', 'had', 'on', 's', 'won', 'by', 'not', 'him', 'most', 'and', 'through', 'theirs', 'hers', \"you'll\", 'doesn', 'their', 'before', \"aren't\", \"you'd\", 'your', 're', 'i', \"she's\", 'isn', 'because', \"hasn't\", \"won't\", 'o', 'any', 'against', 'when', \"that'll\", 'll', 'be', \"you've\", 'm', 'these', 'can', 'y', 'd', 'it', 'having', 'should', 'than', 'at', 'from', 'how', \"isn't\", 'or', 'under', \"weren't\", 've', 'himself', 'out', 'here', 'its', 'there', 'too'}\n"
     ]
    }
   ],
   "source": [
    "def datapreprocess(sen):\n",
    "    \n",
    "    sen = re.sub(r\"didn't\", \"did not\", sen)\n",
    "    sen = re.sub(r\"don't\", \"do not\", sen)\n",
    "    sen = re.sub(r\"won't\", \"will not\", sen)\n",
    "    sen = re.sub(r\"can't\", \"can not\", sen)\n",
    "    sen = re.sub(r\"wasn't\", \"do not\", sen)\n",
    "    sen = re.sub(r\"\\'ve\", \" have\", sen)\n",
    "    sen = re.sub(r\"\\'m\", \" am\", sen)\n",
    "    sen = re.sub(r\"\\'ll\", \" will\", sen)\n",
    "    sen = re.sub(r\"\\'re\", \" are\", sen)\n",
    "    sen = re.sub(r\"\\'s\", \" is\", sen)\n",
    "    sen = re.sub(r\"\\'d\", \" would\", sen)\n",
    "    sen = re.sub(r\"\\'t\", \" not\", sen)\n",
    "    sen = re.sub(r\"\\'m\", \" am\", sen)\n",
    "    sen = re.sub(r\"n\\'t\", \" not\", sen)\n",
    "    \n",
    "    p = set(string.punctuation) # p take all the punctuations, punctuations displayed below\n",
    "    sen=sen.lower() # convert text to lower case\n",
    "    words=sen.split() # split the text into words\n",
    "    ctext=[]\n",
    "    for i in range(10): #adding numbers from 0 - 9 to p \n",
    "        p.add(str(i))\n",
    "    for i in words:\n",
    "        t=''.join([x for x in i.encode(\"ascii\",\"ignore\").decode(\"ascii\") if x not in p]) # ignoring non ascii charecters and numbers\n",
    "        ctext.append(t)\n",
    "    return \" \".join([i for i in ctext]) # joining the cleaned words to text\n",
    "    \n",
    "    \n",
    "\n",
    "stop=set(stopwords.words('english'))\n",
    "print(stop)\n",
    "stop.remove('no')\n",
    "stop.remove('not')\n",
    "stop.remove('nor')\n",
    "\n",
    "preprocessed_essays = []\n",
    "for sentance in data['uncleanedreview'].values:\n",
    "    try:\n",
    "        ctxt=datapreprocess(str(sentance))\n",
    "        if len(ctxt)==0: raise()\n",
    "        ctxt = ' '.join(e for e in ctxt.split() if e not in stop)\n",
    "        preprocessed_essays.append(ctxt.lower().strip())\n",
    "    except:\n",
    "        preprocessed_essays.append(\"NAN\")  \n",
    "data['cleanedtext'] = preprocessed_essays\n",
    "data.drop(data[data[\"cleanedtext\"]==\"NAN\"].index,axis = 0,inplace = True) # deleting rows that have no text \n",
    "data=data.reset_index(drop='true') # after deleting rows index should be reset\n",
    "data['decision']= data['decision'].replace('positive',1)\n",
    "data['decision']= data['decision'].replace('negative',0)\n",
    "\n",
    "\n",
    "s = SnowballStemmer(\"english\")\n",
    "p=[]\n",
    "for i in data['cleanedtext'].values:\n",
    "    k=[]\n",
    "    for word in i.split():\n",
    "        k.append(s.stem(word))\n",
    "    l=' '.join(k)\n",
    "    p.append(l)\n",
    "\n",
    "data['j']=p\n",
    "\n",
    "data.to_csv (r'AmazonMobileDataCleaned.csv')"
   ]
  },
  {
   "cell_type": "code",
   "execution_count": 4,
   "metadata": {},
   "outputs": [
    {
     "name": "stdout",
     "output_type": "stream",
     "text": [
      "(5000, 5)\n",
      "(5000,)\n",
      "(5000, 4)\n",
      "------------------------------\n",
      "(4000, 4)\n",
      "(1000, 4)\n",
      "(4000,)\n",
      "(1000,)\n"
     ]
    }
   ],
   "source": [
    "data=pd.read_csv('AmazonMobileDataCleaned.csv',nrows=5000)\n",
    "print(data.shape)\n",
    "label = data['decision'].values\n",
    "feedback = data.drop(['decision'], axis=1)\n",
    "print(label.shape)\n",
    "print(feedback.shape)\n",
    "print(\"------------------------------\")\n",
    "\n",
    "from sklearn.model_selection import train_test_split\n",
    "# random_state : DEFAULT = None\n",
    "# random_state in train_test_split = 3 or AnyInteger : Reproducing the same dataset into Train and Test, everytime you run this cell\n",
    "inputtrain, inputtest, outputtrain, outputtest = train_test_split(feedback, label, test_size=0.20, stratify=label)\n",
    "print(inputtrain.shape)\n",
    "print(inputtest.shape)\n",
    "print(outputtrain.shape)\n",
    "print(outputtest.shape)"
   ]
  },
  {
   "cell_type": "code",
   "execution_count": 5,
   "metadata": {},
   "outputs": [
    {
     "name": "stdout",
     "output_type": "stream",
     "text": [
      "After vectorizations\n",
      "(4000, 2798)\n",
      "(1000, 2798)\n",
      "(4000,)\n",
      "(1000,)\n",
      "...............................\n"
     ]
    }
   ],
   "source": [
    "# convert into Bag of Words\n",
    "from sklearn.feature_extraction.text import CountVectorizer\n",
    "featur = []\n",
    "vec = CountVectorizer(min_df=10,ngram_range=(1,4))\n",
    "vec.fit(inputtrain['j'].values) # fit has to happen only on train data\n",
    "\n",
    "\n",
    "train_cleanedtext = vec.transform(inputtrain['j'].values)\n",
    "test_cleanedtext= vec.transform(inputtest['j'].values)\n",
    "\n",
    "print(\"After vectorizations\")\n",
    "print(train_cleanedtext.shape)\n",
    "print(test_cleanedtext.shape)\n",
    "print(outputtrain.shape)\n",
    "print(outputtest.shape)\n",
    "print(\"...............................\")\n",
    "\n",
    "featur= featur+vec.get_feature_names()"
   ]
  },
  {
   "cell_type": "markdown",
   "metadata": {},
   "source": [
    "### STEPS INVOLVED IN FINDING BEST CLUSTER SIZE(K)"
   ]
  },
  {
   "cell_type": "code",
   "execution_count": 2,
   "metadata": {},
   "outputs": [
    {
     "data": {
      "text/plain": [
       "'\\nfor K=1,\\n 1. Use K Means ++             --->  initial positioning of Centoids(C1)\\n 2. K-Means Clustering   --->  Identify Cluster SC1\\n 3. Calculate SilhoutteMean for K=1\\n \\nfor K=2,\\n 1. Use K Means ++             --->  initial positioning of Centoids(C1,C2)\\n 2. K-Means Clustering   --->  Identify Clusters SC1,SC2\\n 3. Calculate SilhoutteMean for K=2\\n \\nfor K=3,\\n 1. Use K Means ++             --->  initial positioning of Centoids(C1,C2,C3)\\n 2. K-Means Clustering   --->  Identify Clusters SC1,SC2,SC3\\n 3. Calculate SilhoutteMean for K=3\\n \\nfor K=4,5,6..........\\n \\nChoose Value Of K Which Has Maximum SilhoutteMean\\n'"
      ]
     },
     "execution_count": 2,
     "metadata": {},
     "output_type": "execute_result"
    }
   ],
   "source": [
    "\n",
    "\n",
    "'''\n",
    "for K=1,\n",
    " 1. Use K Means ++             --->  initial positioning of Centoids(C1)\n",
    " 2. K-Means Clustering   --->  Identify Cluster SC1\n",
    " 3. Calculate SilhoutteMean for K=1\n",
    " \n",
    "for K=2,\n",
    " 1. Use K Means ++             --->  initial positioning of Centoids(C1,C2)\n",
    " 2. K-Means Clustering   --->  Identify Clusters SC1,SC2\n",
    " 3. Calculate SilhoutteMean for K=2\n",
    " \n",
    "for K=3,\n",
    " 1. Use K Means ++             --->  initial positioning of Centoids(C1,C2,C3)\n",
    " 2. K-Means Clustering   --->  Identify Clusters SC1,SC2,SC3\n",
    " 3. Calculate SilhoutteMean for K=3\n",
    " \n",
    "for K=4,5,6..........\n",
    " \n",
    "Choose Value Of K Which Has Maximum SilhoutteMean\n",
    "'''"
   ]
  },
  {
   "cell_type": "markdown",
   "metadata": {},
   "source": [
    "### Elbow Method to find best K"
   ]
  },
  {
   "cell_type": "code",
   "execution_count": 7,
   "metadata": {},
   "outputs": [
    {
     "data": {
      "image/png": "[encoded data removed]",
      "text/plain": [
       "<Figure size 432x288 with 1 Axes>"
      ]
     },
     "metadata": {
      "needs_background": "light"
     },
     "output_type": "display_data"
    }
   ],
   "source": [
    "from sklearn.cluster import KMeans\n",
    "import matplotlib.pyplot as plt\n",
    "k=[]\n",
    "iner=[]\n",
    "for i in range(1,10):\n",
    "    kmeans = KMeans(n_clusters=i).fit(train_cleanedtext)\n",
    "    # inertia_ : Sum of squared distances of datapoint to their ClosestClusterCenter.\n",
    "    iner.append(kmeans.inertia_)\n",
    "    k.append(i)\n",
    "plt.plot(k,iner, label='k value')\n",
    "\n",
    "plt.scatter(k,iner, label='loss value')\n",
    "\n",
    "\n",
    "plt.legend()\n",
    "plt.xlabel(\" K Value\")\n",
    "plt.ylabel(\"SSD to Nearest Centroid\") # Sum of Squared Distance to the NearestCentroidCenter \n",
    "plt.title(\"elbow knee method\")\n",
    "plt.grid()\n",
    "plt.show()"
   ]
  },
  {
   "cell_type": "markdown",
   "metadata": {},
   "source": [
    "###  Silhouette Method to find best K"
   ]
  },
  {
   "cell_type": "code",
   "execution_count": 8,
   "metadata": {},
   "outputs": [
    {
     "name": "stdout",
     "output_type": "stream",
     "text": [
      "noofclusters = 2 The average silhouette_score is : 0.5908660827818437\n",
      "noofclusters = 3 The average silhouette_score is : 0.4469095240296482\n",
      "noofclusters = 4 The average silhouette_score is : 0.3484000223469489\n",
      "noofclusters = 5 The average silhouette_score is : 0.2853931556140779\n",
      "noofclusters = 6 The average silhouette_score is : 0.18906231012018848\n",
      "noofclusters = 7 The average silhouette_score is : 0.1843678382296587\n",
      "noofclusters = 8 The average silhouette_score is : 0.21921418075122778\n"
     ]
    }
   ],
   "source": [
    "from sklearn.cluster import KMeans\n",
    "from sklearn.metrics import silhouette_samples, silhouette_score\n",
    "\n",
    "\n",
    "noofclusters = [2, 3,4,5,6,7,8]\n",
    "\n",
    "for clusters in noofclusters:\n",
    "    \n",
    "    clust = KMeans(n_clusters=clusters)\n",
    "    cluster_labels = clust.fit_predict(train_cleanedtext)\n",
    "\n",
    "    \n",
    "    silhouette_avg = silhouette_score(train_cleanedtext, cluster_labels)\n",
    "    print(\"noofclusters =\", clusters,\n",
    "          \"The average silhouette_score is :\", silhouette_avg)\n"
   ]
  },
  {
   "cell_type": "markdown",
   "metadata": {},
   "source": [
    "### Model trained only on Input Features"
   ]
  },
  {
   "cell_type": "code",
   "execution_count": 9,
   "metadata": {},
   "outputs": [
    {
     "name": "stdout",
     "output_type": "stream",
     "text": [
      "[0 0 0 ... 0 0 0]\n"
     ]
    }
   ],
   "source": [
    "# n_clusters\n",
    "# init(default=’k-means++’) ---> How to Initialize Centroid Position\n",
    "# max_iter ---> No of Interations K-Means Clustering Algorithm runs\n",
    "# random_state = 3 or Integer other than 0 ---> \n",
    "\n",
    "kmeans = KMeans(n_clusters=2).fit(train_cleanedtext) \n",
    "Predicted_trained=kmeans.labels_ # Training Dataset Predicted Cluster Labels\n",
    "print(Predicted_trained)"
   ]
  },
  {
   "cell_type": "code",
   "execution_count": 12,
   "metadata": {},
   "outputs": [
    {
     "name": "stdout",
     "output_type": "stream",
     "text": [
      "[1 1 0 1 1 1 1 1 1 1 1 1 1 1 1 1 1 1 1 1 1 1 1 1 0 1 1 1 1 1 1 0 1 1 1 1 1\n",
      " 1 1 1 1 1 1 1 1 1 1 1 1 1 1 1 1 1 1 1 1 1 1 1 1 1 1 1 0 1 1 1 1 1 1 1 1 1\n",
      " 1 1 1 1 1 1 1 1 1 1 1 1 1 1 1 1 1 1 1 1 1 1 1 1 1 1 1 1 0 1 0 1 1 1 1 1 1\n",
      " 1 1 0 1 1 1 0 1 1 1 1 1 1 1 1 1 1 1 0 1 1 1 1 1 1 1 1 1 1 1 1 1 1 1 1 1 1\n",
      " 1 1 1 1 0 1 1 1 1 1 1 1 1 0 1 0 1 0 1 1 1 1 1 1 1 1 1 1 1 1 1 1 1 1 1 1 1\n",
      " 1 1 1 1 1 1 1 1 1 1 1 1 1 1 1 1 1 1 1 1 1 1 0 1 1 1 1 1 1 0 1 1 1 1 1 1 1\n",
      " 1 1 1 1 1 1 1 1 1 1 1 1 1 0 1 1 1 0 1 1 1 1 1 1 1 1 1 1 1 1 1 1 1 1 1 0 1\n",
      " 1 1 1 1 1 1 1 1 1 1 1 1 1 1 1 1 1 1 1 1 1 1 1 1 1 1 1 1 1 1 1 1 1 1 1 1 1\n",
      " 1 0 1 1 1 1 1 1 1 1 1 1 0 1 1 1 1 1 1 1 1 1 1 1 1 1 1 1 1 0 1 1 1 1 1 1 1\n",
      " 1 1 1 1 1 1 1 1 1 1 1 1 0 1 1 1 1 1 0 1 1 1 1 1 1 1 1 1 1 1 1 1 1 1 1 1 0\n",
      " 1 1 1 1 1 1 1 1 1 1 1 0 1 1 1 1 1 1 1 1 1 1 1 1 1 1 0 0 1 1 1 1 1 1 1 1 1\n",
      " 1 1 1 1 1 1 1 1 0 1 1 1 1 0 1 1 1 0 1 1 1 1 1 1 1 1 1 1 1 1 1 1 1 1 1 1 1\n",
      " 1 1 1 1 1 1 1 1 1 1 1 1 1 1 1 1 1 1 1 1 1 1 1 0 1 1 1 1 1 1 1 1 1 1 1 1 1\n",
      " 1 1 1 1 1 1 1 1 1 1 1 1 1 1 1 1 1 0 1 1 1 1 1 1 1 0 1 1 1 1 1 1 1 1 1 1 1\n",
      " 1 1 1 0 1 1 1 1 1 1 1 1 1 1 1 1 1 1 1 1 1 1 1 1 1 1 1 1 1 1 0 1 1 1 1 1 1\n",
      " 1 1 1 1 1 1 1 1 1 1 1 1 1 1 0 1 1 1 1 1 1 1 1 1 1 1 1 1 1 1 1 1 1 1 1 1 1\n",
      " 1 1 1 1 1 1 1 1 1 1 1 1 1 0 1 1 1 1 1 1 1 1 1 1 1 1 1 1 1 1 1 1 1 1 1 1 1\n",
      " 1 1 1 0 1 1 1 1 1 1 1 1 1 1 1 1 1 1 1 1 1 1 1 1 1 1 1 1 1 1 1 1 0 1 1 1 1\n",
      " 1 1 1 0 1 1 1 1 1 1 1 1 1 1 1 1 1 1 1 0 1 1 1 0 1 1 1 1 1 1 1 1 1 1 0 0 1\n",
      " 1 1 1 1 1 1 1 1 1 1 1 1 1 1 1 1 1 1 1 1 1 1 1 1 1 1 1 1 1 1 1 1 1 1 1 1 1\n",
      " 1 1 1 1 1 1 1 1 1 1 1 1 1 1 1 1 1 1 1 1 0 1 1 1 1 1 1 1 1 1 1 1 1 1 0 1 1\n",
      " 0 1 1 1 1 1 1 1 1 1 1 1 1 1 1 1 1 1 1 1 1 1 1 1 1 1 1 0 1 1 1 1 1 1 1 1 1\n",
      " 1 0 1 1 1 1 1 1 1 1 1 1 1 1 1 1 1 1 1 1 1 1 1 1 1 1 1 0 1 0 1 1 1 1 1 1 1\n",
      " 0 1 1 1 1 1 1 1 1 1 1 1 1 1 0 1 1 1 1 1 1 1 1 1 1 1 1 1 1 0 1 1 0 1 1 0 0\n",
      " 1 1 1 1 1 1 1 1 1 1 1 1 1 1 1 1 1 1 1 1 1 1 0 0 1 1 1 1 1 1 1 1 1 1 0 1 1\n",
      " 1 1 1 1 1 1 1 1 1 0 1 1 1 1 1 1 1 1 0 1 1 1 1 1 1 1 1 1 1 1 1 1 1 1 0 1 1\n",
      " 1 1 1 1 1 1 1 1 1 1 1 1 1 1 0 1 1 1 1 1 1 0 1 1 1 1 1 1 1 1 1 1 1 1 1 1 1\n",
      " 1]\n"
     ]
    }
   ],
   "source": [
    "print(kmeans.predict(test_cleanedtext)) # Testing Dataset Predicted Cluster Labels"
   ]
  },
  {
   "cell_type": "code",
   "execution_count": null,
   "metadata": {},
   "outputs": [],
   "source": []
  }
 ],
 "metadata": {
  "kernelspec": {
   "display_name": "Python 3",
   "language": "python",
   "name": "python3"
  },
  "language_info": {
   "codemirror_mode": {
    "name": "ipython",
    "version": 3
   },
   "file_extension": ".py",
   "mimetype": "text/x-python",
   "name": "python",
   "nbconvert_exporter": "python",
   "pygments_lexer": "ipython3",
   "version": "3.8.5"
  }
 },
 "nbformat": 4,
 "nbformat_minor": 2
}
