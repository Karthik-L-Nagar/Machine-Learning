{
 "cells": [
  {
   "cell_type": "markdown",
   "metadata": {},
   "source": [
    "# Heirarchial Aggolomerative Clustering is best suited for Non-Globular Dataset"
   ]
  },
  {
   "cell_type": "markdown",
   "metadata": {},
   "source": [
    "## Here we consider only Input in Amazon Mobile DataSet "
   ]
  },
  {
   "cell_type": "code",
   "execution_count": 1,
   "metadata": {},
   "outputs": [],
   "source": [
    "import pandas as pd\n",
    "import re\n",
    "from nltk.corpus import stopwords\n",
    "import string\n",
    "from nltk.stem.snowball import SnowballStemmer"
   ]
  },
  {
   "cell_type": "code",
   "execution_count": 2,
   "metadata": {},
   "outputs": [
    {
     "name": "stdout",
     "output_type": "stream",
     "text": [
      "(71922, 2)\n"
     ]
    }
   ],
   "source": [
    "# Reading the data file into a DATAFRAME and checking the shape \n",
    "data=pd.read_csv('35.1AmazonMobileDataUncleaned.csv')\n",
    "print(data.shape)"
   ]
  },
  {
   "cell_type": "code",
   "execution_count": 3,
   "metadata": {},
   "outputs": [
    {
     "name": "stdout",
     "output_type": "stream",
     "text": [
      "{'o', \"you'll\", 'needn', \"should've\", 'didn', 'own', 'their', 'him', 'some', 're', \"you're\", 'whom', 'up', 've', 'we', 'in', 'any', 'does', 'ma', 'was', 'over', 't', 'our', 'your', 'off', 'under', 'by', 'haven', \"mustn't\", \"didn't\", 'do', \"shouldn't\", 'won', 'being', 'and', 'those', 'of', 'are', 'each', 'should', 'its', 'an', 'me', 'you', 'his', 'why', 'them', 'how', 'ain', 'be', 'i', 'weren', 'or', 'just', 'most', 'have', 'themselves', 'further', \"you'd\", 'where', 'too', 'yourself', 'after', 'down', 'below', 'ourselves', 'other', 'hadn', 'between', 'so', 'yourselves', 'having', 'to', 'from', 'nor', 'during', \"she's\", 'will', 'wouldn', 'as', 'were', 'there', 'these', 'into', \"haven't\", 'ours', 'few', 'with', 'don', 'd', 'for', 'out', 'this', 'been', \"couldn't\", 'himself', 'shouldn', 'she', 'through', 'hers', 's', 'that', 'then', 'here', 'had', 'couldn', 'did', 'they', 'yours', \"that'll\", 'has', \"hasn't\", 'am', 'he', 'aren', 'theirs', 'doing', 'who', 'now', 'on', 'not', \"hadn't\", 'because', 'isn', 'but', \"you've\", 'again', 'it', 'when', 'more', 'y', 'herself', 'm', 'such', \"won't\", 'all', 'only', \"mightn't\", \"shan't\", 'before', 'a', 'at', 'until', \"aren't\", \"needn't\", 'is', \"wouldn't\", 'no', 'doesn', 'above', 'wasn', 'what', 'about', 'myself', 'once', 'mightn', \"it's\", 'while', 'her', 'hasn', 'the', \"wasn't\", \"doesn't\", \"don't\", 'if', 'can', 'than', 'shan', \"isn't\", \"weren't\", 'll', 'mustn', 'very', 'itself', 'against', 'which', 'same', 'my', 'both'}\n"
     ]
    }
   ],
   "source": [
    "def datapreprocess(sen):\n",
    "    \n",
    "    sen = re.sub(r\"didn't\", \"did not\", sen)\n",
    "    sen = re.sub(r\"don't\", \"do not\", sen)\n",
    "    sen = re.sub(r\"won't\", \"will not\", sen)\n",
    "    sen = re.sub(r\"can't\", \"can not\", sen)\n",
    "    sen = re.sub(r\"wasn't\", \"do not\", sen)\n",
    "    sen = re.sub(r\"\\'ve\", \" have\", sen)\n",
    "    sen = re.sub(r\"\\'m\", \" am\", sen)\n",
    "    sen = re.sub(r\"\\'ll\", \" will\", sen)\n",
    "    sen = re.sub(r\"\\'re\", \" are\", sen)\n",
    "    sen = re.sub(r\"\\'s\", \" is\", sen)\n",
    "    sen = re.sub(r\"\\'d\", \" would\", sen)\n",
    "    sen = re.sub(r\"\\'t\", \" not\", sen)\n",
    "    sen = re.sub(r\"\\'m\", \" am\", sen)\n",
    "    sen = re.sub(r\"n\\'t\", \" not\", sen)\n",
    "    \n",
    "    p = set(string.punctuation) # p take all the punctuations, punctuations displayed below\n",
    "    sen=sen.lower() # convert text to lower case\n",
    "    words=sen.split() # split the text into words\n",
    "    ctext=[]\n",
    "    for i in range(10): #adding numbers from 0 - 9 to p \n",
    "        p.add(str(i))\n",
    "    for i in words:\n",
    "        t=''.join([x for x in i.encode(\"ascii\",\"ignore\").decode(\"ascii\") if x not in p]) # ignoring non ascii charecters and numbers\n",
    "        ctext.append(t)\n",
    "    return \" \".join([i for i in ctext]) # joining the cleaned words to text\n",
    "    \n",
    "    \n",
    "\n",
    "stop=set(stopwords.words('english'))\n",
    "print(stop)\n",
    "stop.remove('no')\n",
    "stop.remove('not')\n",
    "stop.remove('nor')\n",
    "\n",
    "preprocessed_essays = []\n",
    "for sentance in data['uncleanedreview'].values:\n",
    "    try:\n",
    "        ctxt=datapreprocess(str(sentance))\n",
    "        if len(ctxt)==0: raise()\n",
    "        ctxt = ' '.join(e for e in ctxt.split() if e not in stop)\n",
    "        preprocessed_essays.append(ctxt.lower().strip())\n",
    "    except:\n",
    "        preprocessed_essays.append(\"NAN\")  \n",
    "data['cleanedtext'] = preprocessed_essays\n",
    "data.drop(data[data[\"cleanedtext\"]==\"NAN\"].index,axis = 0,inplace = True) # deleting rows that have no text \n",
    "data=data.reset_index(drop='true') # after deleting rows index should be reset\n",
    "data['decision']= data['decision'].replace('positive',1)\n",
    "data['decision']= data['decision'].replace('negative',0)\n",
    "\n",
    "\n",
    "s = SnowballStemmer(\"english\")\n",
    "p=[]\n",
    "for i in data['cleanedtext'].values:\n",
    "    k=[]\n",
    "    for word in i.split():\n",
    "        k.append(s.stem(word))\n",
    "    l=' '.join(k)\n",
    "    p.append(l)\n",
    "\n",
    "data['j']=p\n",
    "\n",
    "data.to_csv (r'AmazonMobileDataCleaned.csv')"
   ]
  },
  {
   "cell_type": "code",
   "execution_count": 4,
   "metadata": {},
   "outputs": [
    {
     "name": "stdout",
     "output_type": "stream",
     "text": [
      "(5000, 5)\n",
      "(5000,)\n",
      "(5000, 4)\n",
      "------------------------------\n",
      "(4000, 4)\n",
      "(1000, 4)\n",
      "(4000,)\n",
      "(1000,)\n"
     ]
    }
   ],
   "source": [
    "data=pd.read_csv('AmazonMobileDataCleaned.csv',nrows=5000)\n",
    "print(data.shape)\n",
    "label = data['decision'].values\n",
    "feedback = data.drop(['decision'], axis=1)\n",
    "print(label.shape)\n",
    "print(feedback.shape)\n",
    "print(\"------------------------------\")\n",
    "\n",
    "from sklearn.model_selection import train_test_split\n",
    "# random_state : DEFAULT = None\n",
    "# random_state in train_test_split = 3 or AnyInteger : Reproducing the same dataset into Train and Test, everytime you run this cell\n",
    "inputtrain, inputtest, outputtrain, outputtest = train_test_split(feedback, label, test_size=0.20, stratify=label)\n",
    "print(inputtrain.shape)\n",
    "print(inputtest.shape)\n",
    "print(outputtrain.shape)\n",
    "print(outputtest.shape)"
   ]
  },
  {
   "cell_type": "code",
   "execution_count": 5,
   "metadata": {},
   "outputs": [
    {
     "name": "stdout",
     "output_type": "stream",
     "text": [
      "After vectorizations\n",
      "(4000, 2743)\n",
      "(1000, 2743)\n",
      "(4000,)\n",
      "(1000,)\n",
      "...............................\n"
     ]
    }
   ],
   "source": [
    "# convert into Bag of Words\n",
    "from sklearn.feature_extraction.text import CountVectorizer\n",
    "featur = []\n",
    "vec = CountVectorizer(min_df=10,ngram_range=(1,4))\n",
    "vec.fit(inputtrain['j'].values) # fit has to happen only on train data\n",
    "\n",
    "\n",
    "train_cleanedtext = vec.transform(inputtrain['j'].values)\n",
    "test_cleanedtext= vec.transform(inputtest['j'].values)\n",
    "\n",
    "print(\"After vectorizations\")\n",
    "print(train_cleanedtext.shape)\n",
    "print(test_cleanedtext.shape)\n",
    "print(outputtrain.shape)\n",
    "print(outputtest.shape)\n",
    "print(\"...............................\")\n",
    "\n",
    "featur= featur+vec.get_feature_names()"
   ]
  },
  {
   "cell_type": "markdown",
   "metadata": {},
   "source": [
    "### STEPS INVOLVED IN FINDING BEST CLUSTER SIZE(K)"
   ]
  },
  {
   "cell_type": "code",
   "execution_count": 7,
   "metadata": {},
   "outputs": [
    {
     "data": {
      "text/plain": [
       "'\\nfor K=1,\\n 1. Use K Means ++             --->  initial positioning of Centoids(C1)\\n 2. AggolomerativeClustering   --->  Identify Cluster SC1\\n 3. Calculate SilhoutteMean for K=1\\n \\nfor K=2,\\n 1. Use K Means ++             --->  initial positioning of Centoids(C1,C2)\\n 2. AggolomerativeClustering   --->  Identify Clusters SC1,SC2\\n 3. Calculate SilhoutteMean for K=2\\n \\nfor K=3,\\n 1. Use K Means ++             --->  initial positioning of Centoids(C1,C2,C3)\\n 2. AggolomerativeClustering   --->  Identify Clusters SC1,SC2,SC3\\n 3. Calculate SilhoutteMean for K=3\\n \\nfor K=4,5,6..........\\n \\nChoose Value Of K Which Has Maximum SilhoutteMean\\n'"
      ]
     },
     "execution_count": 7,
     "metadata": {},
     "output_type": "execute_result"
    }
   ],
   "source": [
    "\n",
    "'''\n",
    "for K=1,\n",
    " 1. Use K Means ++             --->  initial positioning of Centoids(C1)\n",
    " 2. AggolomerativeClustering   --->  Identify Cluster SC1\n",
    " 3. Calculate SilhoutteMean for K=1\n",
    " \n",
    "for K=2,\n",
    " 1. Use K Means ++             --->  initial positioning of Centoids(C1,C2)\n",
    " 2. AggolomerativeClustering   --->  Identify Clusters SC1,SC2\n",
    " 3. Calculate SilhoutteMean for K=2\n",
    " \n",
    "for K=3,\n",
    " 1. Use K Means ++             --->  initial positioning of Centoids(C1,C2,C3)\n",
    " 2. AggolomerativeClustering   --->  Identify Clusters SC1,SC2,SC3\n",
    " 3. Calculate SilhoutteMean for K=3\n",
    " \n",
    "for K=4,5,6..........\n",
    " \n",
    "Choose Value Of K Which Has Maximum SilhoutteMean\n",
    "'''"
   ]
  },
  {
   "cell_type": "code",
   "execution_count": 6,
   "metadata": {},
   "outputs": [
    {
     "name": "stdout",
     "output_type": "stream",
     "text": [
      "For n_clusters = 2 The average silhouette_score is : 0.6113932780214736\n",
      "For n_clusters = 3 The average silhouette_score is : 0.5919850470490015\n",
      "For n_clusters = 4 The average silhouette_score is : 0.212772542569957\n",
      "For n_clusters = 5 The average silhouette_score is : 0.2144183598467373\n",
      "For n_clusters = 6 The average silhouette_score is : 0.2146546164440003\n",
      "For n_clusters = 7 The average silhouette_score is : 0.2149444023367481\n",
      "For n_clusters = 8 The average silhouette_score is : 0.1751789508341463\n"
     ]
    }
   ],
   "source": [
    "from sklearn.cluster import AgglomerativeClustering\n",
    "from sklearn.metrics import silhouette_samples, silhouette_score\n",
    "\n",
    "\n",
    "\n",
    "L=train_cleanedtext.toarray()\n",
    "range_n_clusters = [2, 3,4,5,6,7,8]\n",
    "\n",
    "for n_clusters in range_n_clusters:\n",
    "    # Initialize the clusterer with n_clusters value and a random generator\n",
    "    # seed of 10 for reproducibility.\n",
    "    clusterer = AgglomerativeClustering(n_clusters=n_clusters)\n",
    "    cluster_labels = clusterer.fit_predict(L)\n",
    "\n",
    "    # The silhouette_score gives the average value for all the samples.\n",
    "    # This gives a perspective into the density and separation of the formed\n",
    "    # clusters\n",
    "    silhouette_avg = silhouette_score(L, cluster_labels)\n",
    "    print(\"For n_clusters =\", n_clusters,\n",
    "          \"The average silhouette_score is :\", silhouette_avg)\n"
   ]
  },
  {
   "cell_type": "markdown",
   "metadata": {},
   "source": [
    "### Model trained only on input"
   ]
  },
  {
   "cell_type": "code",
   "execution_count": 11,
   "metadata": {},
   "outputs": [
    {
     "name": "stdout",
     "output_type": "stream",
     "text": [
      "[1 1 1 ... 1 1 0]\n"
     ]
    }
   ],
   "source": [
    "# n_clusters --> No of Clusters\n",
    "# linkage{‘ward’, ‘complete’, ‘average’, ‘single’}, default=’ward’\n",
    "\n",
    "Agglo = AgglomerativeClustering(n_clusters=2).fit(train_cleanedtext.toarray()) # DenseMatrix is passed instead of SparseMatrix\n",
    "Predicted_trained=Agglo.labels_ #Training set Predicted Cluster values\n",
    "print(Predicted_trained)"
   ]
  },
  {
   "cell_type": "code",
   "execution_count": 16,
   "metadata": {},
   "outputs": [
    {
     "name": "stdout",
     "output_type": "stream",
     "text": [
      "1000\n",
      "[0 1 1 1 1 1 1 1 1 1 1 1 1 1 1 0 0 0 0 0 0 0 1 1 0 1 0 1 0 1 1 0 0 1 1 1 0\n",
      " 0 1 0 1 0 1 1 1 1 0 1 1 0 1 1 0 1 1 1 1 1 1 1 1 0 1 1 1 1 1 0 1 1 1 0 1 1\n",
      " 0 1 1 0 1 1 0 1 1 1 0 1 1 1 0 1 1 0 0 0 1 0 1 1 0 0 1 0 1 1 0 1 1 0 1 0 1\n",
      " 1 1 1 1 1 1 1 0 1 1 1 0 1 1 0 1 1 1 1 1 1 1 1 0 1 1 1 1 1 1 1 1 1 1 1 1 1\n",
      " 1 1 0 1 1 1 1 1 1 1 0 1 1 1 1 1 0 1 1 0 0 1 1 1 0 1 1 1 0 0 1 1 1 1 1 1 0\n",
      " 1 1 1 1 1 1 1 1 0 1 1 1 0 1 1 1 0 0 1 1 0 0 1 1 0 1 0 1 1 1 1 1 1 1 1 0 1\n",
      " 1 0 1 0 0 1 1 0 1 1 0 0 0 0 1 1 1 1 1 1 0 1 1 0 1 1 0 1 1 1 0 0 1 1 1 1 1\n",
      " 0 1 1 1 1 1 1 0 1 1 1 1 0 1 0 1 1 1 1 1 0 1 0 1 1 1 1 1 1 1 0 1 0 1 1 1 1\n",
      " 1 1 0 0 1 1 1 1 1 1 1 1 0 1 0 1 1 0 1 0 1 0 0 1 1 0 1 1 1 0 1 0 1 0 1 0 1\n",
      " 1 1 1 1 1 1 0 1 1 0 1 1 1 1 1 1 1 1 1 1 1 0 1 0 1 0 1 1 1 1 0 1 0 1 1 1 1\n",
      " 0 1 0 1 1 1 1 1 0 1 0 1 1 1 1 1 1 1 0 0 0 0 1 1 1 1 1 1 0 1 1 1 1 0 0 1 1\n",
      " 1 1 0 0 1 1 1 1 0 0 0 1 1 1 1 1 1 0 1 1 1 0 1 0 1 1 1 1 1 1 1 1 0 1 1 1 1\n",
      " 1 1 0 1 1 0 1 1 1 1 1 1 1 1 1 1 1 0 0 1 0 0 1 1 1 1 0 1 1 0 0 1 1 1 1 0 0\n",
      " 1 0 1 1 1 0 1 1 0 1 1 1 1 1 1 1 1 1 1 1 0 0 0 1 1 1 1 0 1 1 1 0 1 1 1 1 1\n",
      " 1 1 0 1 1 1 0 0 1 1 0 1 0 1 0 0 1 1 1 1 0 0 1 1 1 1 1 1 1 1 1 1 0 1 1 0 1\n",
      " 1 0 1 1 1 1 1 0 1 1 1 0 0 1 1 1 0 0 1 0 0 1 1 1 1 0 0 1 1 0 1 1 1 1 1 0 1\n",
      " 1 1 1 1 1 1 0 0 1 1 1 1 1 1 1 1 1 0 1 1 0 1 1 1 1 0 1 0 1 1 1 1 0 1 1 0 1\n",
      " 0 0 1 1 1 1 1 1 1 1 1 1 1 1 1 0 1 0 1 0 1 1 1 1 1 0 0 0 1 1 1 0 1 1 1 1 1\n",
      " 1 1 1 1 0 1 1 1 0 1 0 1 1 1 0 1 1 0 1 0 1 0 1 1 1 1 1 1 1 1 1 0 1 1 1 1 1\n",
      " 0 1 0 1 1 1 1 1 0 1 1 1 0 0 1 0 1 1 0 1 1 1 1 0 1 1 1 0 0 1 1 1 1 1 1 1 1\n",
      " 1 1 1 1 1 1 1 1 0 1 0 1 1 1 0 1 0 0 1 1 1 1 1 1 1 1 1 1 1 1 0 0 0 0 1 0 1\n",
      " 1 0 1 0 1 1 0 1 1 1 1 1 1 1 1 0 0 1 1 0 1 0 0 1 1 1 0 1 1 1 1 1 1 1 1 0 1\n",
      " 1 1 1 0 0 1 0 0 0 1 1 1 1 1 1 1 0 1 1 1 1 1 1 1 1 1 1 1 1 1 1 0 0 1 1 1 1\n",
      " 1 1 0 0 0 1 1 1 0 1 1 1 0 1 1 0 1 1 1 1 0 1 1 1 1 1 1 1 1 1 1 0 1 0 0 1 1\n",
      " 1 1 1 1 0 1 1 1 1 1 1 0 1 1 1 1 1 1 0 1 1 1 1 0 1 1 0 1 1 1 0 1 0 1 1 1 0\n",
      " 1 1 1 1 0 1 1 1 1 1 0 1 1 1 0 1 1 1 1 0 1 1 0 1 0 1 1 1 1 0 0 1 1 1 1 1 1\n",
      " 1 1 0 1 1 1 1 1 1 1 1 0 1 1 1 1 0 1 0 1 1 1 1 0 1 1 1 1 1 1 0 1 0 1 1 1 1\n",
      " 1]\n"
     ]
    }
   ],
   "source": [
    "clusters = Agglo.fit_predict(test_cleanedtext.toarray())\n",
    "print(len(clusters))\n",
    "print(clusters)# Testing set Predicted Cluster value"
   ]
  },
  {
   "cell_type": "code",
   "execution_count": null,
   "metadata": {},
   "outputs": [],
   "source": []
  }
 ],
 "metadata": {
  "kernelspec": {
   "display_name": "Python 3",
   "language": "python",
   "name": "python3"
  },
  "language_info": {
   "codemirror_mode": {
    "name": "ipython",
    "version": 3
   },
   "file_extension": ".py",
   "mimetype": "text/x-python",
   "name": "python",
   "nbconvert_exporter": "python",
   "pygments_lexer": "ipython3",
   "version": "3.8.5"
  }
 },
 "nbformat": 4,
 "nbformat_minor": 2
}
