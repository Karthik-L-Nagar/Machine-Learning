{
 "cells": [
  {
   "cell_type": "markdown",
   "metadata": {},
   "source": [
    "# Here in Cardio dataset we have Numerical & Categorical Data"
   ]
  },
  {
   "cell_type": "code",
   "execution_count": 1,
   "metadata": {},
   "outputs": [],
   "source": [
    "import pandas as pd\n",
    "import numpy as np\n"
   ]
  },
  {
   "cell_type": "markdown",
   "metadata": {},
   "source": [
    "# Splitting Cleaned dataset into Features & Labels"
   ]
  },
  {
   "cell_type": "code",
   "execution_count": 2,
   "metadata": {},
   "outputs": [
    {
     "name": "stdout",
     "output_type": "stream",
     "text": [
      "[0 1 1 ... 1 0 1]\n",
      "      Unnamed: 0     id    age  gender  height  weight  ap_hi  ap_lo  \\\n",
      "0              0      0  18393    male     168    62.0    110     80   \n",
      "1              1      1  20228  female     156    85.0    140     90   \n",
      "2              2      2  18857  female     165    64.0    130     70   \n",
      "3              3      3  17623    male     169    82.0    150    100   \n",
      "4              4      4  17474  female     156    56.0    100     60   \n",
      "...          ...    ...    ...     ...     ...     ...    ...    ...   \n",
      "9995       10338  14758  18935  female     158    63.0    140     90   \n",
      "9996       10339  14759  20634  female     153    60.0    120     80   \n",
      "9997       10340  14760  23433  female     154    74.0    150     90   \n",
      "9998       10341  14761  15979  female     160    67.0    120     60   \n",
      "9999       10342  14762  19834  female     165    60.0    110     75   \n",
      "\n",
      "     cholesterol             gluc  smoke  alco  active  \n",
      "0     c1_average       g1_average      0     0       1  \n",
      "1        c3_high       g1_average      0     0       1  \n",
      "2        c3_high       g1_average      0     0       0  \n",
      "3     c1_average       g1_average      0     0       1  \n",
      "4     c1_average       g1_average      0     0       0  \n",
      "...          ...              ...    ...   ...     ...  \n",
      "9995  c1_average  g2_aboveaverage      0     0       1  \n",
      "9996  c1_average       g1_average      0     0       1  \n",
      "9997  c1_average       g1_average      0     0       1  \n",
      "9998  c1_average       g1_average      0     0       1  \n",
      "9999  c1_average       g1_average      0     0       1  \n",
      "\n",
      "[10000 rows x 13 columns]\n"
     ]
    }
   ],
   "source": [
    "# Data Cleaning is performed on Numerical Columns\n",
    "\n",
    "datafile=pd.read_csv('34.2cardiocleaned.csv',nrows=10000)# reading the cleaned dataset\n",
    "\n",
    "label = datafile['cardio'].values # output is seperated to a variable called label\n",
    "data = datafile.drop(['cardio'], axis=1) #Input is seperated to variable data\n",
    "print(label)\n",
    "print(data)"
   ]
  },
  {
   "cell_type": "markdown",
   "metadata": {},
   "source": [
    "# Split data  into training & testing data"
   ]
  },
  {
   "cell_type": "code",
   "execution_count": 4,
   "metadata": {},
   "outputs": [
    {
     "name": "stdout",
     "output_type": "stream",
     "text": [
      "(8000, 13)\n",
      "(2000, 13)\n",
      "(8000,)\n",
      "(2000,)\n"
     ]
    }
   ],
   "source": [
    "# split data  into training, validation, testing data\n",
    "from sklearn.model_selection import train_test_split # class to split data \n",
    "\n",
    "inputtrain, inputtest, outputtrain, outputtest = train_test_split(data, label, test_size=0.2, stratify=label)\n",
    "\n",
    "print(inputtrain.shape)\n",
    "\n",
    "print(inputtest.shape)\n",
    "print(outputtrain.shape)\n",
    "\n",
    "print(outputtest.shape)\n"
   ]
  },
  {
   "cell_type": "markdown",
   "metadata": {},
   "source": [
    "# Data PreProcessing on Categorical  Column i.e Feature Extraction"
   ]
  },
  {
   "cell_type": "code",
   "execution_count": 5,
   "metadata": {},
   "outputs": [
    {
     "name": "stdout",
     "output_type": "stream",
     "text": [
      "(8000, 1)\n",
      "(2000, 1)\n",
      "(8000,)\n",
      "(2000,)\n",
      "..........................\n",
      "(8000, 2)\n",
      "(2000, 2)\n",
      "(8000,)\n",
      "(2000,)\n",
      "..........................\n",
      "(8000, 1)\n",
      "(2000, 1)\n",
      "(8000,)\n",
      "(2000,)\n",
      "..........................\n",
      "(8000, 1)\n",
      "(2000, 1)\n",
      "(8000,)\n",
      "(2000,)\n",
      "..........................\n",
      "(8000, 1)\n",
      "(2000, 1)\n",
      "(8000,)\n",
      "(2000,)\n",
      "..........................\n",
      "(8000, 1)\n",
      "(2000, 1)\n",
      "(8000,)\n",
      "(2000,)\n",
      "..........................\n",
      "(8000, 3)\n",
      "(2000, 3)\n",
      "(8000,)\n",
      "(2000,)\n",
      "..........................\n",
      "(8000, 3)\n",
      "(2000, 3)\n",
      "(8000,)\n",
      "(2000,)\n",
      "..........................\n",
      "(8000, 1)\n",
      "(2000, 1)\n",
      "(8000,)\n",
      "(2000,)\n",
      "..........................\n",
      "(8000, 1)\n",
      "(2000, 1)\n",
      "(8000,)\n",
      "(2000,)\n",
      "..........................\n",
      "(8000, 1)\n",
      "(2000, 1)\n",
      "(8000,)\n",
      "(2000,)\n",
      "..........................\n"
     ]
    }
   ],
   "source": [
    "from sklearn.preprocessing import MinMaxScaler\n",
    "from sklearn.feature_extraction.text import CountVectorizer\n",
    "\n",
    "# scale age using min max\n",
    "scale = MinMaxScaler()\n",
    " # reshape because of minmax take column and scale\n",
    "scale.fit(inputtrain['age'].values.reshape(-1,1))\n",
    "inputtrain_age = scale.transform(inputtrain['age'].values.reshape(-1,1))\n",
    "\n",
    "inputtest_age = scale.transform(inputtest['age'].values.reshape(-1,1))\n",
    "print(inputtrain_age.shape)\n",
    "\n",
    "print(inputtest_age.shape)\n",
    "print(outputtrain.shape)\n",
    "\n",
    "print(outputtest.shape)\n",
    "print(\"..........................\")\n",
    "\n",
    "\n",
    "\n",
    "\n",
    "# convert gender to one hot encoding\n",
    "\n",
    "vec = CountVectorizer()\n",
    "vec.fit(inputtrain['gender'].values) \n",
    "\n",
    "inputtrain_gender = vec.transform(inputtrain['gender'].values)\n",
    "\n",
    "inputtest_gender = vec.transform(inputtest['gender'].values)\n",
    "\n",
    "print(inputtrain_gender.shape)\n",
    "\n",
    "print(inputtest_gender.shape)\n",
    "print(outputtrain.shape)\n",
    "\n",
    "print(outputtest.shape)\n",
    "print(\"..........................\")\n",
    "\n",
    "\n",
    "# scale height using min max\n",
    "scale = MinMaxScaler()\n",
    "scale.fit(inputtrain['height'].values.reshape(-1,1)) # reshape because of minmax take column and scale\n",
    "\n",
    "inputtrain_height = scale.transform(inputtrain['height'].values.reshape(-1,1))\n",
    "\n",
    "inputtest_height = scale.transform(inputtest['height'].values.reshape(-1,1))\n",
    "print(inputtrain_height.shape)\n",
    "\n",
    "print(inputtest_height.shape)\n",
    "print(outputtrain.shape)\n",
    "\n",
    "print(outputtest.shape)\n",
    "print(\"..........................\")\n",
    "\n",
    "\n",
    "# scale weight using min max\n",
    "scale = MinMaxScaler()\n",
    "scale.fit(inputtrain['weight'].values.reshape(-1,1)) # reshape because of minmax take column and scale\n",
    "\n",
    "inputtrain_weight = scale.transform(inputtrain['weight'].values.reshape(-1,1))\n",
    "\n",
    "inputtest_weight = scale.transform(inputtest['weight'].values.reshape(-1,1))\n",
    "print(inputtrain_weight.shape)\n",
    "\n",
    "print(inputtest_weight.shape)\n",
    "print(outputtrain.shape)\n",
    "\n",
    "print(outputtest.shape)\n",
    "print(\"..........................\")\n",
    "\n",
    "\n",
    "# scale ap_hi using min max\n",
    "scale = MinMaxScaler()\n",
    "scale.fit(inputtrain['ap_hi'].values.reshape(-1,1)) # reshape because of minmax take column and scale\n",
    "\n",
    "inputtrain_ap_hi = scale.transform(inputtrain['ap_hi'].values.reshape(-1,1))\n",
    "\n",
    "inputtest_ap_hi = scale.transform(inputtest['ap_hi'].values.reshape(-1,1))\n",
    "print(inputtrain_ap_hi.shape)\n",
    "\n",
    "print(inputtest_ap_hi.shape)\n",
    "print(outputtrain.shape)\n",
    "\n",
    "print(outputtest.shape)\n",
    "print(\"..........................\")\n",
    "\n",
    "\n",
    "# scale ap_lo using min max\n",
    "scale = MinMaxScaler()\n",
    "scale.fit(inputtrain['ap_lo'].values.reshape(-1,1)) # reshape because of minmax take column and scale\n",
    "\n",
    "inputtrain_ap_lo = scale.transform(inputtrain['ap_lo'].values.reshape(-1,1))\n",
    "\n",
    "inputtest_ap_lo = scale.transform(inputtest['ap_lo'].values.reshape(-1,1))\n",
    "print(inputtrain_ap_lo.shape)\n",
    "\n",
    "print(inputtest_ap_lo.shape)\n",
    "print(outputtrain.shape)\n",
    "\n",
    "print(outputtest.shape)\n",
    "print(\"..........................\")\n",
    "\n",
    "\n",
    "# convert cholesterol to one hot encoding\n",
    "\n",
    "vec = CountVectorizer()\n",
    "vec.fit(inputtrain['cholesterol'].values) \n",
    "\n",
    "inputtrain_cholesterol = vec.transform(inputtrain['cholesterol'].values)\n",
    "\n",
    "inputtest_cholesterol = vec.transform(inputtest['cholesterol'].values)\n",
    "\n",
    "print(inputtrain_cholesterol.shape)\n",
    "\n",
    "print(inputtest_cholesterol.shape)\n",
    "print(outputtrain.shape)\n",
    "\n",
    "print(outputtest.shape)\n",
    "print(\"..........................\")\n",
    "\n",
    "\n",
    "\n",
    "# convert gluc to one hot encoding\n",
    "\n",
    "vec = CountVectorizer()\n",
    "vec.fit(inputtrain['gluc'].values) \n",
    "\n",
    "inputtrain_gluc = vec.transform(inputtrain['gluc'].values)\n",
    "\n",
    "inputtest_gluc = vec.transform(inputtest['gluc'].values)\n",
    "\n",
    "print(inputtrain_gluc.shape)\n",
    "\n",
    "print(inputtest_gluc.shape)\n",
    "print(outputtrain.shape)\n",
    "\n",
    "print(outputtest.shape)\n",
    "print(\"..........................\")\n",
    "\n",
    "\n",
    "# reshape binary feature smoke\n",
    "inputtrain_smoke = inputtrain['smoke'].values.reshape(-1,1)\n",
    "\n",
    "inputtest_smoke = inputtest['smoke'].values.reshape(-1,1)\n",
    "print(inputtrain_smoke.shape)\n",
    "\n",
    "print(inputtest_smoke.shape)\n",
    "print(outputtrain.shape)\n",
    "\n",
    "print(outputtest.shape)\n",
    "print(\"..........................\")\n",
    "\n",
    "\n",
    "\n",
    "# reshape binary feature alco\n",
    "inputtrain_alco = inputtrain['alco'].values.reshape(-1,1)\n",
    "\n",
    "inputtest_alco = inputtest['alco'].values.reshape(-1,1)\n",
    "print(inputtrain_alco.shape)\n",
    "\n",
    "print(inputtest_alco.shape)\n",
    "print(outputtrain.shape)\n",
    "\n",
    "print(outputtest.shape)\n",
    "print(\"..........................\")\n",
    "\n",
    "\n",
    "# reshape binary feature active\n",
    "inputtrain_active = inputtrain['active'].values.reshape(-1,1)\n",
    "\n",
    "inputtest_active = inputtest['active'].values.reshape(-1,1)\n",
    "print(inputtrain_active.shape)\n",
    "\n",
    "print(inputtest_active.shape)\n",
    "print(outputtrain.shape)\n",
    "\n",
    "print(outputtest.shape)\n",
    "print(\"..........................\")\n"
   ]
  },
  {
   "cell_type": "markdown",
   "metadata": {},
   "source": [
    "#  Stacking PreProcessed Columns Vertically to form Training & Test Data which can be used on MODEL"
   ]
  },
  {
   "cell_type": "code",
   "execution_count": 6,
   "metadata": {},
   "outputs": [
    {
     "name": "stdout",
     "output_type": "stream",
     "text": [
      "(8000, 16)\n",
      "(2000, 16)\n",
      "(8000,)\n",
      "(2000,)\n",
      "..........................\n"
     ]
    }
   ],
   "source": [
    "# stack arrays horizontally\n",
    "\n",
    "from scipy.sparse import hstack\n",
    "\n",
    "train = hstack((inputtrain_age,inputtrain_gender,inputtrain_height,inputtrain_weight,inputtrain_ap_hi,inputtrain_ap_lo,inputtrain_cholesterol,inputtrain_gluc,inputtrain_smoke,inputtrain_alco,inputtrain_active)).toarray()\n",
    "\n",
    "test = hstack((inputtest_age,inputtest_gender,inputtest_height,inputtest_weight,inputtest_ap_hi,inputtest_ap_lo,inputtest_cholesterol,inputtest_gluc,inputtest_smoke,inputtest_alco,inputtest_active)).toarray()\n",
    "\n",
    "print(train.shape)\n",
    "\n",
    "print(test.shape)\n",
    "print(outputtrain.shape)\n",
    "\n",
    "print(outputtest.shape)\n",
    "print(\"..........................\")\n",
    "\n",
    "#print(train)"
   ]
  },
  {
   "cell_type": "markdown",
   "metadata": {},
   "source": [
    "# Find best hyper-parameter K"
   ]
  },
  {
   "cell_type": "code",
   "execution_count": 7,
   "metadata": {},
   "outputs": [
    {
     "data": {
      "image/png": "[encoded data removed]",
      "text/plain": [
       "<Figure size 432x288 with 1 Axes>"
      ]
     },
     "metadata": {
      "needs_background": "light"
     },
     "output_type": "display_data"
    },
    {
     "name": "stdout",
     "output_type": "stream",
     "text": [
      "{'n_neighbors': 55}\n",
      "0.7680410151879808\n"
     ]
    }
   ],
   "source": [
    "# Packages required\n",
    "# some of the code taken from stack overflow\n",
    "import math\n",
    "from sklearn.model_selection import GridSearchCV\n",
    "from sklearn.neighbors import KNeighborsClassifier\n",
    "import numpy as np\n",
    "import matplotlib.pyplot as plt\n",
    "\n",
    "\n",
    "neigh = KNeighborsClassifier(n_jobs=-1)\n",
    "\n",
    "k=np.array([1,3,5,7,9,11,13,15,17,19,21,25,29,33,55]) # Different k values\n",
    "tuned_parameters = {'n_neighbors' : k} # k values in a dictionary\n",
    "\n",
    "\n",
    "clf = GridSearchCV(neigh, tuned_parameters, cv=5, scoring='roc_auc',return_train_score='true') \n",
    "clf.fit(train, outputtrain)\n",
    "\n",
    "results = pd.DataFrame.from_dict(clf.cv_results_)#please check the output of cv_results_\n",
    "#  gridsearchcv execution will understand. concepts required KFold cross validation\n",
    "results = results.sort_values(['param_n_neighbors'])\n",
    "\n",
    "train_auc= results['mean_train_score']\n",
    "\n",
    "cv_auc = results['mean_test_score'] \n",
    "\n",
    "k =  results['param_n_neighbors']\n",
    "\n",
    "\n",
    "\n",
    "plt.plot(k, train_auc, label='Train AUC')# to connect lines to auc points\n",
    "\n",
    "\n",
    "plt.plot(k, cv_auc, label='CV AUC')\n",
    "\n",
    "\n",
    "\n",
    "plt.scatter(k, train_auc, label='Train AUC points')\n",
    "plt.scatter(k, cv_auc, label='CV AUC points')\n",
    "\n",
    "plt.legend()\n",
    "plt.xlabel(\"log alpha base 10: hyperparameter\")\n",
    "plt.ylabel(\"AUC\")\n",
    "plt.title(\"ROCAUC Vs LOG Alpha plot\")\n",
    "plt.grid()\n",
    "plt.show()\n",
    "\n",
    "\n",
    "print(clf.best_params_)# pick the best alpha value\n",
    "print(clf.best_score_)\n",
    "\n"
   ]
  },
  {
   "cell_type": "code",
   "execution_count": 8,
   "metadata": {},
   "outputs": [
    {
     "data": {
      "image/png": "[encoded data removed]",
      "text/plain": [
       "<Figure size 432x288 with 1 Axes>"
      ]
     },
     "metadata": {
      "needs_background": "light"
     },
     "output_type": "display_data"
    },
    {
     "name": "stdout",
     "output_type": "stream",
     "text": [
      "---------------------------------------------------\n",
      "the maximum value of tpr*(1-fpr) 0.5172639118083331 for threshold 0.455\n",
      "Train confusion matrix\n"
     ]
    },
    {
     "data": {
      "image/png": "[encoded data removed]",
      "text/plain": [
       "<Figure size 432x288 with 2 Axes>"
      ]
     },
     "metadata": {
      "needs_background": "light"
     },
     "output_type": "display_data"
    },
    {
     "name": "stdout",
     "output_type": "stream",
     "text": [
      "Test confusion matrix\n"
     ]
    },
    {
     "data": {
      "image/png": "[encoded data removed]",
      "text/plain": [
       "<Figure size 432x288 with 2 Axes>"
      ]
     },
     "metadata": {
      "needs_background": "light"
     },
     "output_type": "display_data"
    }
   ],
   "source": [
    "from sklearn.metrics import roc_curve, auc\n",
    "import seaborn as sns\n",
    "\n",
    "neigh = KNeighborsClassifier(n_neighbors=55)\n",
    "neigh.fit(train, outputtrain)\n",
    "\n",
    "\n",
    "\n",
    "y_train_pred = neigh.predict_proba(train)[:,1]    \n",
    "y_test_pred = neigh.predict_proba(test)[:,1]\n",
    "#print(y_test_pred)\n",
    "train_fpr, train_tpr, tr_thresholds = roc_curve(outputtrain, y_train_pred)\n",
    "test_fpr, test_tpr, te_thresholds = roc_curve(outputtest, y_test_pred)\n",
    "\n",
    "plt.plot(train_fpr, train_tpr, label=\"train AUC =\"+str(auc(train_fpr, train_tpr)))\n",
    "plt.plot(test_fpr, test_tpr, label=\"test AUC =\"+str(auc(test_fpr, test_tpr)))\n",
    "plt.legend()\n",
    "plt.xlabel(\"FPR\")\n",
    "plt.ylabel(\"TPR\")\n",
    "plt.title(\"ROC PLOT\")\n",
    "plt.grid()\n",
    "plt.show()\n",
    "\n",
    "\n",
    "def bestthreshold(threshould, fpr, tpr):# function to predict best threshold\n",
    "    t = threshould[np.argmax(tpr*(1-fpr))]\n",
    "    \n",
    "    print(\"the maximum value of tpr*(1-fpr)\", max(tpr*(1-fpr)), \"for threshold\", np.round(t,3))\n",
    "    return t\n",
    "\n",
    "def predictusingbestt(proba, threshould):#prediction using best threshold\n",
    "    predictions = []\n",
    "    for i in proba:\n",
    "        if i>=threshould:\n",
    "            predictions.append(1)\n",
    "        else:\n",
    "            predictions.append(0)\n",
    "    return predictions\n",
    "\n",
    "print(\"---------------------------------------------------\")\n",
    "\n",
    "\n",
    "from sklearn.metrics import confusion_matrix\n",
    "best_t = bestthreshold(tr_thresholds, train_fpr, train_tpr)\n",
    "print(\"Train confusion matrix\")\n",
    "\n",
    "ax = sns.heatmap(confusion_matrix(outputtrain, predictusingbestt(y_train_pred, best_t)),annot=True,fmt='d')\n",
    "ax.set_ylim([0,2])\n",
    "\n",
    "plt.ylabel('actual values')\n",
    "plt.xlabel('predicted values')\n",
    "plt.show()\n",
    "print(\"Test confusion matrix\")\n",
    "\n",
    "\n",
    "bx=sns.heatmap(confusion_matrix(outputtest, predictusingbestt(y_test_pred, best_t)),annot=True,fmt='d')\n",
    "bx.set_ylim([0,2])\n",
    "\n",
    "plt.ylabel('actual values')\n",
    "plt.xlabel('predicted values')\n",
    "plt.show()"
   ]
  },
  {
   "cell_type": "code",
   "execution_count": null,
   "metadata": {},
   "outputs": [],
   "source": []
  }
 ],
 "metadata": {
  "kernelspec": {
   "display_name": "Python 3",
   "language": "python",
   "name": "python3"
  },
  "language_info": {
   "codemirror_mode": {
    "name": "ipython",
    "version": 3
   },
   "file_extension": ".py",
   "mimetype": "text/x-python",
   "name": "python",
   "nbconvert_exporter": "python",
   "pygments_lexer": "ipython3",
   "version": "3.8.5"
  }
 },
 "nbformat": 4,
 "nbformat_minor": 2
}
