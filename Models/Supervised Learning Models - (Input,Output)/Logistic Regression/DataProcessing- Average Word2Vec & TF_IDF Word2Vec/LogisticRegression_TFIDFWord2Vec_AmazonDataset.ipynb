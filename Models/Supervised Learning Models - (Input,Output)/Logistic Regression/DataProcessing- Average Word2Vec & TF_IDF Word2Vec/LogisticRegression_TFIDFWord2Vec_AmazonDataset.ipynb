{
 "cells": [
  {
   "cell_type": "code",
   "execution_count": 1,
   "metadata": {},
   "outputs": [],
   "source": [
    "import pandas as pd\n",
    "import re\n",
    "from nltk.corpus import stopwords\n",
    "import string\n",
    "from nltk.stem.snowball import SnowballStemmer"
   ]
  },
  {
   "cell_type": "code",
   "execution_count": 2,
   "metadata": {},
   "outputs": [
    {
     "name": "stdout",
     "output_type": "stream",
     "text": [
      "(71922, 2)\n"
     ]
    }
   ],
   "source": [
    "# Reading the data file into a DATAFRAME and checking the shape \n",
    "data=pd.read_csv('35.1AmazonMobileDataUncleaned.csv')\n",
    "print(data.shape)"
   ]
  },
  {
   "cell_type": "markdown",
   "metadata": {},
   "source": [
    "# Data Cleaning"
   ]
  },
  {
   "cell_type": "code",
   "execution_count": 3,
   "metadata": {},
   "outputs": [
    {
     "name": "stdout",
     "output_type": "stream",
     "text": [
      "{'other', 'on', \"shouldn't\", 'being', 'ours', 'above', 'again', 'during', 'after', 'now', 'does', 'through', 've', 'ourselves', 'isn', 'what', \"it's\", 'before', 'once', 'so', 'an', 'at', 'wouldn', 'was', 'of', 'shan', 'while', 'has', 'mustn', 'his', 'most', 'very', 'between', 't', \"you're\", 'doesn', 'and', 'won', \"needn't\", \"she's\", \"hadn't\", 's', 'can', 'who', 'any', \"won't\", 'when', 'him', 'your', 'such', 'only', 'ma', 'she', 'they', \"that'll\", 'then', 'having', 'i', 'theirs', 'll', 'y', 'hers', 'ain', \"didn't\", 'by', 'few', 'than', 'needn', \"mightn't\", 'wasn', 'off', 'he', 'each', 'over', 'it', 'had', 'd', \"hasn't\", 'here', 'their', 'have', 'own', 'been', \"doesn't\", 'weren', 'is', 'herself', 'should', 'where', 'all', 'in', 're', 'are', 'no', 'or', 'we', 'how', 'themselves', 'that', 'himself', 'against', 'up', 'further', 'm', \"couldn't\", 'aren', 'shouldn', 'not', 'as', \"isn't\", 'because', 'some', 'whom', \"mustn't\", 'be', 'them', 'o', 'if', \"you'll\", 'too', 'same', 'my', 'both', 'mightn', 'don', \"you've\", 'but', 'into', \"you'd\", 'just', 'were', 'which', 'from', \"wasn't\", 'did', 'for', 'you', 'this', 'yourself', 'our', 'these', 'about', 'am', 'more', 'itself', 'why', \"don't\", 'there', 'couldn', 'until', 'myself', 'under', \"weren't\", 'didn', 'nor', 'to', 'will', \"should've\", 'its', 'do', 'down', 'her', \"aren't\", 'yours', 'yourselves', \"wouldn't\", 'doing', 'out', 'haven', 'me', 'hadn', \"haven't\", 'with', 'a', 'the', 'those', 'below', 'hasn', \"shan't\"}\n"
     ]
    }
   ],
   "source": [
    "def datapreprocess(sen):\n",
    "    \n",
    "    sen = re.sub(r\"didn't\", \"did not\", sen)\n",
    "    sen = re.sub(r\"don't\", \"do not\", sen)\n",
    "    sen = re.sub(r\"won't\", \"will not\", sen)\n",
    "    sen = re.sub(r\"can't\", \"can not\", sen)\n",
    "    sen = re.sub(r\"wasn't\", \"do not\", sen)\n",
    "    sen = re.sub(r\"\\'ve\", \" have\", sen)\n",
    "    sen = re.sub(r\"\\'m\", \" am\", sen)\n",
    "    sen = re.sub(r\"\\'ll\", \" will\", sen)\n",
    "    sen = re.sub(r\"\\'re\", \" are\", sen)\n",
    "    sen = re.sub(r\"\\'s\", \" is\", sen)\n",
    "    sen = re.sub(r\"\\'d\", \" would\", sen)\n",
    "    sen = re.sub(r\"\\'t\", \" not\", sen)\n",
    "    sen = re.sub(r\"\\'m\", \" am\", sen)\n",
    "    sen = re.sub(r\"n\\'t\", \" not\", sen)\n",
    "    \n",
    "    p = set(string.punctuation) # p take all the punctuations, punctuations displayed below\n",
    "    sen=sen.lower() # convert text to lower case\n",
    "    words=sen.split() # split the text into words\n",
    "    ctext=[]\n",
    "    for i in range(10): #adding numbers from 0 - 9 to p \n",
    "        p.add(str(i))\n",
    "    for i in words:\n",
    "        t=''.join([x for x in i.encode(\"ascii\",\"ignore\").decode(\"ascii\") if x not in p]) # ignoring non ascii charecters and numbers\n",
    "        ctext.append(t)\n",
    "    return \" \".join([i for i in ctext]) # joining the cleaned words to text\n",
    "    \n",
    "    \n",
    "\n",
    "stop=set(stopwords.words('english'))\n",
    "print(stop)\n",
    "stop.remove('no')\n",
    "stop.remove('not')\n",
    "stop.remove('nor')\n",
    "\n",
    "preprocessed_essays = []\n",
    "for sentance in data['uncleanedreview'].values:\n",
    "    try:\n",
    "        ctxt=datapreprocess(str(sentance))\n",
    "        if len(ctxt)==0: raise()\n",
    "        ctxt = ' '.join(e for e in ctxt.split() if e not in stop)\n",
    "        preprocessed_essays.append(ctxt.lower().strip())\n",
    "    except:\n",
    "        preprocessed_essays.append(\"NAN\")  \n",
    "data['cleanedtext'] = preprocessed_essays\n",
    "data.drop(data[data[\"cleanedtext\"]==\"NAN\"].index,axis = 0,inplace = True) # deleting rows that have no text \n",
    "data=data.reset_index(drop='true') # after deleting rows index should be reset\n",
    "data['decision']= data['decision'].replace('positive',1)\n",
    "data['decision']= data['decision'].replace('negative',0)\n",
    "\n",
    "\n",
    "s = SnowballStemmer(\"english\")\n",
    "p=[]\n",
    "for i in data['cleanedtext'].values:\n",
    "    k=[]\n",
    "    for word in i.split():\n",
    "        k.append(s.stem(word))\n",
    "    l=' '.join(k)\n",
    "    p.append(l)\n",
    "\n",
    "data['j']=p\n",
    "\n",
    "data.to_csv (r'AmazonMobileDataCleaned.csv')"
   ]
  },
  {
   "cell_type": "markdown",
   "metadata": {},
   "source": [
    "# Dividing data into train & test datasets"
   ]
  },
  {
   "cell_type": "code",
   "execution_count": 5,
   "metadata": {},
   "outputs": [
    {
     "name": "stdout",
     "output_type": "stream",
     "text": [
      "(5000, 5)\n",
      "(5000,)\n",
      "(5000, 4)\n",
      "------------------------------\n",
      "(4000, 4)\n",
      "(1000, 4)\n",
      "(4000,)\n",
      "(1000,)\n"
     ]
    }
   ],
   "source": [
    "data=pd.read_csv('AmazonMobileDataCleaned.csv',nrows=5000) # since the system is slow, we are considering only 5000 rows in dataset\n",
    "print(data.shape)\n",
    "label = data['decision'].values\n",
    "feedback = data.drop(['decision'], axis=1)\n",
    "print(label.shape)\n",
    "print(feedback.shape)\n",
    "print(\"------------------------------\")\n",
    "\n",
    "from sklearn.model_selection import train_test_split\n",
    "inputtrain, inputtest, outputtrain, outputtest = train_test_split(feedback, label, test_size=0.20, stratify=label)\n",
    "print(inputtrain.shape)\n",
    "print(inputtest.shape)\n",
    "print(outputtrain.shape)\n",
    "print(outputtest.shape)"
   ]
  },
  {
   "cell_type": "markdown",
   "metadata": {},
   "source": [
    "# DataPreprocessing on Text - TF_IDFWord2Vec\n",
    "After vectorizations\n",
    "(57537, 30627)\n",
    "(14385, 30627)\n",
    "(57537,)\n",
    "(14385,)"
   ]
  },
  {
   "cell_type": "code",
   "execution_count": 11,
   "metadata": {},
   "outputs": [
    {
     "name": "stdout",
     "output_type": "stream",
     "text": [
      "No of documents in Train document corpus: 4000\n",
      "No of documents in Test document corpus: 1000\n",
      "After vectorizations\n",
      "Input Train TF-IDFWord2Vec DataPreprocessed size: (4000, 1000)\n",
      "Input Test TF-IDFWord2Vec DataPreprocessed size: (1000, 1000)\n",
      "Output Train dataset size (4000,)\n",
      "Output Test dataset size (1000,)\n",
      "...............................\n"
     ]
    }
   ],
   "source": [
    "#convert each document to TFIDF word2vec\n",
    "import numpy as np\n",
    "from sklearn.feature_extraction.text import TfidfVectorizer\n",
    "from gensim.models import Word2Vec\n",
    "\n",
    "tfidf = None\n",
    "# we will fit tfidf only on training data\n",
    "def tf_idfword2vec_train(train_inputdata):\n",
    "    global tfidf\n",
    "    sentences=[]\n",
    "    for sent in train_inputdata:\n",
    "        senten= ' '.join(e for e in sent.split())\n",
    "        sentences.append(senten.lower().strip())\n",
    "\n",
    "    sentence_list=[]\n",
    "    for sent in sentences:\n",
    "        sentence_list.append(sent.split(' '))\n",
    "    \n",
    "    # size=1000, 1000 features\n",
    "    # min_count=1, word must occur atleast once in any one of documents in document corpus\n",
    "    model = Word2Vec(sentence_list, min_count=1,size=1000)#list of lists of strings as input\n",
    "\n",
    "    tfidf = TfidfVectorizer(min_df=10,ngram_range=(1,4))\n",
    "    tfidf.fit(sentences)#Vectorizer accepts list of strings as input\n",
    "\n",
    "    dictionary = dict(zip(tfidf.get_feature_names(), list(tfidf.idf_)))\n",
    "\n",
    "\n",
    "    tfidf_feat = tfidf.get_feature_names() \n",
    "    w2v_feat=list(model.wv.vocab)\n",
    "    #print('Word2Vec feature_names:\\n',w2v_feat)\n",
    "    #print('TFIDF feature_names:\\n',tfidf_feat)\n",
    "\n",
    "    row=0\n",
    "    tfidf_sent_vectors = []; \n",
    "    for sent in (sentence_list): \n",
    "        sent_vec = np.zeros(1000) #NOTE: Same size as that of features \n",
    "        weight_sum =0; \n",
    "        for word in sent: \n",
    "            if word in list(model.wv.vocab) and word in tfidf_feat:\n",
    "                vec = model.wv[word]\n",
    "                #print(f'2d vector value of \"{word}\" is {vec}')\n",
    "                # tf_idf = tf_idf_matrix[row, tfidf_feat.index(word)]\n",
    "                # to reduce the computation we are \n",
    "                # dictionary[word] = idf value of word in whole courpus\n",
    "                # (sent.count(word)/len(sent)) = tf valeus of word in this review\n",
    "                tf_idf = dictionary[word]*(sent.count(word)/len(sent))\n",
    "                sent_vec += (vec * tf_idf)\n",
    "                weight_sum += tf_idf\n",
    "        if weight_sum != 0:\n",
    "            sent_vec /= weight_sum\n",
    "        tfidf_sent_vectors.append(sent_vec)\n",
    "        row += 1\n",
    "    print('No of documents in Train document corpus:',row)\n",
    "    #print('TFIDF word2vec of each document in document corpus:',tfidf_sent_vectors)\n",
    "    #print('Shape of TFIDF word2vec of each document in document corpus:',np.asarray(tfidf_sent_vectors).shape)\n",
    "    \n",
    "    return np.asarray(tfidf_sent_vectors)\n",
    "\n",
    "\n",
    "def tf_idfword2vec_test(test_inputdata):\n",
    "    global tfidf\n",
    "    sentences=[]\n",
    "    for sent in test_inputdata:\n",
    "        senten= ' '.join(e for e in sent.split())\n",
    "        sentences.append(senten.lower().strip())\n",
    "\n",
    "    sentence_list=[]\n",
    "    for sent in sentences:\n",
    "        sentence_list.append(sent.split(' '))\n",
    "\n",
    "    model = Word2Vec(sentence_list, min_count=1,size=1000)#list of lists of strings as input\n",
    "\n",
    "    #tfidf = TfidfVectorizer()\n",
    "    #tfidf.fit(sentences)#Vectorizer accepts list of strings as input\n",
    "\n",
    "    dictionary = dict(zip(tfidf.get_feature_names(), list(tfidf.idf_)))\n",
    "\n",
    "\n",
    "    tfidf_feat = tfidf.get_feature_names() \n",
    "    w2v_feat=list(model.wv.vocab)\n",
    "    #print('Word2Vec feature_names:\\n',w2v_feat)\n",
    "    #print('TFIDF feature_names:\\n',tfidf_feat)\n",
    "\n",
    "    row=0\n",
    "    tfidf_sent_vectors = []; \n",
    "    for sent in (sentence_list): \n",
    "        sent_vec = np.zeros(1000) # NOTE: Same size as that of features \n",
    "        weight_sum =0; \n",
    "        for word in sent: \n",
    "            if word in list(model.wv.vocab) and word in tfidf_feat:\n",
    "                vec = model.wv[word]\n",
    "                #print(f'2d vector value of \"{word}\" is {vec}')\n",
    "                # tf_idf = tf_idf_matrix[row, tfidf_feat.index(word)]\n",
    "                # to reduce the computation we are \n",
    "                # dictionary[word] = idf value of word in whole courpus\n",
    "                # (sent.count(word)/len(sent)) = tf valeus of word in this review\n",
    "                tf_idf = dictionary[word]*(sent.count(word)/len(sent))\n",
    "                sent_vec += (vec * tf_idf)\n",
    "                weight_sum += tf_idf\n",
    "        if weight_sum != 0:\n",
    "            sent_vec /= weight_sum\n",
    "        tfidf_sent_vectors.append(sent_vec)\n",
    "        row += 1\n",
    "    print('No of documents in Test document corpus:',row)\n",
    "    #print('TFIDF word2vec of each document in document corpus:',tfidf_sent_vectors)\n",
    "    #print('Shape of TFIDF word2vec of each document in document corpus:',np.asarray(tfidf_sent_vectors).shape)\n",
    "    \n",
    "    return np.asarray(tfidf_sent_vectors)\n",
    "\n",
    "train_cleanedtext = tf_idfword2vec_train(inputtrain['j'].values)\n",
    "test_cleanedtext= tf_idfword2vec_test(inputtest['j'].values)\n",
    "\n",
    "print(\"After vectorizations\")\n",
    "print(\"Input Train TF-IDFWord2Vec DataPreprocessed size:\",train_cleanedtext.shape)\n",
    "print(\"Input Test TF-IDFWord2Vec DataPreprocessed size:\", test_cleanedtext.shape)\n",
    "print(\"Output Train dataset size\", outputtrain.shape)\n",
    "print(\"Output Test dataset size\", outputtest.shape)\n",
    "print(\"...............................\")"
   ]
  },
  {
   "cell_type": "markdown",
   "metadata": {},
   "source": [
    "# Code to find best hyperparameter(lambda) using GridSearchCV[uses k-fold cross validation to find the accuracy(auc)]"
   ]
  },
  {
   "cell_type": "code",
   "execution_count": 12,
   "metadata": {},
   "outputs": [
    {
     "data": {
      "image/png": "[encoded data removed]",
      "text/plain": [
       "<Figure size 432x288 with 1 Axes>"
      ]
     },
     "metadata": {
      "needs_background": "light"
     },
     "output_type": "display_data"
    },
    {
     "name": "stdout",
     "output_type": "stream",
     "text": [
      "{'alpha': 1e-05}\n",
      "0.8025020318123766\n",
      "best alpha log value\n",
      "-5.0\n"
     ]
    }
   ],
   "source": [
    "# Packages required\n",
    "# some of the code taken from stack overflow\n",
    "import math\n",
    "from sklearn.model_selection import GridSearchCV\n",
    "from sklearn import linear_model\n",
    "import numpy as np\n",
    "import matplotlib.pyplot as plt\n",
    "\n",
    "\n",
    "neigh = linear_model.SGDClassifier(loss='log',max_iter=5000,penalty='l2')\n",
    "\n",
    "alphas=np.array([0.00001,0.0001,0.001,0.01,0.1,1,10,100,1000,10000]) # Different lamda values\n",
    "tuned_parameters = {'alpha' : alphas} # lamda values in a dictionary In SGDClassifier named as alpha\n",
    "\n",
    "\n",
    "clf = GridSearchCV(neigh, tuned_parameters, cv=5, scoring='roc_auc',return_train_score='true') \n",
    "clf.fit(train_cleanedtext, outputtrain)\n",
    "\n",
    "results = pd.DataFrame.from_dict(clf.cv_results_)#please check the output of cv_results_\n",
    "#  gridsearchcv execution will understand. concepts required KFold cross validation\n",
    "results = results.sort_values(['param_alpha'])\n",
    "\n",
    "train_auc= results['mean_train_score']\n",
    "\n",
    "cv_auc = results['mean_test_score'] \n",
    "\n",
    "k =  results['param_alpha']\n",
    "\n",
    "alpha1=[]\n",
    "for i in range(0,len(k),1):\n",
    "   l=math.log10(k[i])\n",
    "   alpha1.append(l)\n",
    "alpha1.sort()\n",
    "plt.plot(alpha1, train_auc, label='Train AUC')\n",
    "\n",
    "plt.plot(alpha1, cv_auc, label='CV AUC')\n",
    "\n",
    "plt.scatter(alpha1, train_auc, label='Train AUC points')\n",
    "plt.scatter(alpha1, cv_auc, label='CV AUC points')\n",
    "\n",
    "plt.legend()\n",
    "plt.xlabel(\" alpha: hyperparameter\")\n",
    "plt.ylabel(\"AUC\")\n",
    "plt.title(\"ROCAUC Vs  Alpha plot\")\n",
    "plt.grid()\n",
    "plt.show()\n",
    "\n",
    "\n",
    "print(clf.best_params_)\n",
    "print(clf.best_score_)\n",
    "print(\"best alpha log value\")\n",
    "a=math.log10(clf.best_params_.get('alpha'))\n",
    "print(a)"
   ]
  },
  {
   "cell_type": "markdown",
   "metadata": {},
   "source": [
    "# 1: use the hyper-parameter(lambda) to train the model & find function\n",
    "# 2: use that function to find out the best threshold value(np.argmax(tpr*(1-fpr)) )\n",
    "# 3: use that threshold to compute predicted value(y) & compute confusion matrix\n"
   ]
  },
  {
   "cell_type": "code",
   "execution_count": 13,
   "metadata": {},
   "outputs": [
    {
     "data": {
      "image/png": "[encoded data removed]",
      "text/plain": [
       "<Figure size 432x288 with 1 Axes>"
      ]
     },
     "metadata": {
      "needs_background": "light"
     },
     "output_type": "display_data"
    },
    {
     "name": "stdout",
     "output_type": "stream",
     "text": [
      "---------------------------------------------------\n",
      "the maximum value of tpr*(1-fpr) 0.5477982894074849 for threshold 0.681\n",
      "Train confusion matrix\n"
     ]
    },
    {
     "data": {
      "image/png": "[encoded data removed]",
      "text/plain": [
       "<Figure size 432x288 with 2 Axes>"
      ]
     },
     "metadata": {
      "needs_background": "light"
     },
     "output_type": "display_data"
    },
    {
     "name": "stdout",
     "output_type": "stream",
     "text": [
      "Test confusion matrix\n"
     ]
    },
    {
     "data": {
      "image/png": "[encoded data removed]",
      "text/plain": [
       "<Figure size 432x288 with 2 Axes>"
      ]
     },
     "metadata": {
      "needs_background": "light"
     },
     "output_type": "display_data"
    }
   ],
   "source": [
    "\n",
    "from sklearn.metrics import roc_curve, auc\n",
    "import seaborn as sns\n",
    "\n",
    "neigh = linear_model.SGDClassifier(loss='log',max_iter=5000,alpha=1e-05,penalty='l2')\n",
    "neigh.fit(train_cleanedtext, outputtrain)\n",
    "\n",
    "\n",
    "\n",
    "y_train_pred = neigh.predict_proba(train_cleanedtext)[:,1]    \n",
    "y_test_pred = neigh.predict_proba(test_cleanedtext)[:,1]\n",
    "#print(y_test_pred)\n",
    "train_fpr, train_tpr, tr_thresholds = roc_curve(outputtrain, y_train_pred)\n",
    "test_fpr, test_tpr, te_thresholds = roc_curve(outputtest, y_test_pred)\n",
    "\n",
    "plt.plot(train_fpr, train_tpr, label=\"train AUC =\"+str(auc(train_fpr, train_tpr)))\n",
    "plt.plot(test_fpr, test_tpr, label=\"test AUC =\"+str(auc(test_fpr, test_tpr)))\n",
    "plt.legend()\n",
    "plt.xlabel(\"FPR\")\n",
    "plt.ylabel(\"TPR\")\n",
    "plt.title(\"ROC PLOT\")\n",
    "plt.grid()\n",
    "plt.show()\n",
    "\n",
    "\n",
    "def bestthreshold(threshould, fpr, tpr):# function to predict best threshold\n",
    "    t = threshould[np.argmax(tpr*(1-fpr))]\n",
    "    \n",
    "    print(\"the maximum value of tpr*(1-fpr)\", max(tpr*(1-fpr)), \"for threshold\", np.round(t,3))\n",
    "    return t\n",
    "\n",
    "def predictusingbestt(proba, threshould):#prediction using best threshold\n",
    "    predictions = []\n",
    "    for i in proba:\n",
    "        if i>=threshould:\n",
    "            predictions.append(1)\n",
    "        else:\n",
    "            predictions.append(0)\n",
    "    return predictions\n",
    "\n",
    "print(\"---------------------------------------------------\")\n",
    "\n",
    "\n",
    "from sklearn.metrics import confusion_matrix\n",
    "best_t = bestthreshold(tr_thresholds, train_fpr, train_tpr)\n",
    "print(\"Train confusion matrix\")\n",
    "\n",
    "ax=sns.heatmap(confusion_matrix(outputtrain, predictusingbestt(y_train_pred, best_t)),annot=True,fmt='d')\n",
    "ax.set_ylim([0,2])\n",
    "\n",
    "plt.ylabel('actual values')\n",
    "plt.xlabel('predicted values')\n",
    "plt.show()\n",
    "print(\"Test confusion matrix\")\n",
    "\n",
    "\n",
    "bx=sns.heatmap(confusion_matrix(outputtest, predictusingbestt(y_test_pred, best_t)),annot=True,fmt='d')\n",
    "bx.set_ylim([0,2])\n",
    "\n",
    "plt.ylabel('actual values')\n",
    "plt.xlabel('predicted values')\n",
    "plt.show()"
   ]
  },
  {
   "cell_type": "code",
   "execution_count": null,
   "metadata": {},
   "outputs": [],
   "source": []
  }
 ],
 "metadata": {
  "kernelspec": {
   "display_name": "Python 3",
   "language": "python",
   "name": "python3"
  },
  "language_info": {
   "codemirror_mode": {
    "name": "ipython",
    "version": 3
   },
   "file_extension": ".py",
   "mimetype": "text/x-python",
   "name": "python",
   "nbconvert_exporter": "python",
   "pygments_lexer": "ipython3",
   "version": "3.8.5"
  }
 },
 "nbformat": 4,
 "nbformat_minor": 2
}
