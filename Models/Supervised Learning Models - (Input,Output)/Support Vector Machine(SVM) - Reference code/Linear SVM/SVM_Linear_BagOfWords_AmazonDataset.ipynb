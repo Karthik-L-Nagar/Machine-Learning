{
 "cells": [
  {
   "cell_type": "markdown",
   "metadata": {},
   "source": [
    "# REFERENCE CODING EXAMPLE"
   ]
  },
  {
   "cell_type": "code",
   "execution_count": 15,
   "metadata": {},
   "outputs": [],
   "source": [
    "import pandas as pd\n",
    "import re\n",
    "from nltk.corpus import stopwords\n",
    "import string\n",
    "from nltk.stem.snowball import SnowballStemmer"
   ]
  },
  {
   "cell_type": "code",
   "execution_count": 16,
   "metadata": {},
   "outputs": [
    {
     "name": "stdout",
     "output_type": "stream",
     "text": [
      "Original AmazonMobileDataSet size(Without DataCleaning & DataPreprocessing): (71922, 2)\n"
     ]
    }
   ],
   "source": [
    "# Reading the data file into a DATAFRAME and checking the shape \n",
    "data=pd.read_csv('35.1AmazonMobileDataUncleaned.csv')\n",
    "print(\"Original AmazonMobileDataSet size(Without DataCleaning & DataPreprocessing):\",data.shape)"
   ]
  },
  {
   "cell_type": "markdown",
   "metadata": {},
   "source": [
    "# Data Cleaning"
   ]
  },
  {
   "cell_type": "code",
   "execution_count": 17,
   "metadata": {},
   "outputs": [
    {
     "name": "stdout",
     "output_type": "stream",
     "text": [
      "{'ain', \"it's\", 'being', 'don', 'theirs', 'isn', 'doesn', 'same', 'itself', 'how', 'until', 'what', 'these', \"needn't\", 'mustn', \"doesn't\", \"couldn't\", \"you'd\", \"she's\", 'should', \"don't\", 'if', 'between', \"shan't\", 'in', 'had', 'aren', \"mightn't\", 'needn', 'whom', 'she', 'm', 'under', \"should've\", 'having', 'on', 'to', 'this', 'him', 'your', 'over', 'we', 'myself', 'an', 'didn', 'again', 'haven', 'ourselves', 'y', \"that'll\", 'or', \"won't\", 'are', 'been', 'out', 'shouldn', 'off', 'down', 'd', 'their', 'has', 'have', 'weren', 'themselves', 'doing', 'ma', 'any', 'further', 'that', 'it', 'the', 'from', 'himself', \"wasn't\", 'be', 'why', \"you'll\", 'wasn', 'then', 'against', 'its', 'those', 'll', \"weren't\", 'through', 'because', 'not', \"haven't\", 'there', 'am', 'all', 'as', 'some', 'just', 'during', \"aren't\", 'up', 'does', 'each', 'hadn', 'at', \"you've\", \"you're\", \"wouldn't\", 'where', 'they', 'i', 'do', 'no', 'his', 'which', 'can', 't', 'once', 'such', 'my', 'couldn', 'her', 'after', 'more', 'too', 'mightn', 'nor', 've', 'so', 'while', 'you', \"didn't\", 'but', 'shan', \"mustn't\", 'and', 'own', 'was', \"shouldn't\", 'yours', 'by', 'now', 'of', 'me', 's', 're', 'into', 'when', 'yourself', 'for', 'before', \"hadn't\", 'did', 'few', 'wouldn', 'hasn', 'about', 'above', 'hers', 'won', 'with', 'only', 'a', 'other', 'is', \"isn't\", 'yourselves', 'herself', 'o', 'than', 'most', 'here', 'very', 'will', 'them', 'who', \"hasn't\", 'below', 'our', 'ours', 'were', 'both', 'he'}\n"
     ]
    }
   ],
   "source": [
    "def datapreprocess(sen):\n",
    "    \n",
    "    sen = re.sub(r\"didn't\", \"did not\", sen)\n",
    "    sen = re.sub(r\"don't\", \"do not\", sen)\n",
    "    sen = re.sub(r\"won't\", \"will not\", sen)\n",
    "    sen = re.sub(r\"can't\", \"can not\", sen)\n",
    "    sen = re.sub(r\"wasn't\", \"do not\", sen)\n",
    "    sen = re.sub(r\"\\'ve\", \" have\", sen)\n",
    "    sen = re.sub(r\"\\'m\", \" am\", sen)\n",
    "    sen = re.sub(r\"\\'ll\", \" will\", sen)\n",
    "    sen = re.sub(r\"\\'re\", \" are\", sen)\n",
    "    sen = re.sub(r\"\\'s\", \" is\", sen)\n",
    "    sen = re.sub(r\"\\'d\", \" would\", sen)\n",
    "    sen = re.sub(r\"\\'t\", \" not\", sen)\n",
    "    sen = re.sub(r\"\\'m\", \" am\", sen)\n",
    "    sen = re.sub(r\"n\\'t\", \" not\", sen)\n",
    "    \n",
    "    p = set(string.punctuation) # p take all the punctuations, punctuations displayed below\n",
    "    sen=sen.lower() # convert text to lower case\n",
    "    words=sen.split() # split the text into words\n",
    "    ctext=[]\n",
    "    for i in range(10): #adding numbers from 0 - 9 to p \n",
    "        p.add(str(i))\n",
    "    for i in words:\n",
    "        t=''.join([x for x in i.encode(\"ascii\",\"ignore\").decode(\"ascii\") if x not in p]) # ignoring non ascii charecters and numbers\n",
    "        ctext.append(t)\n",
    "    return \" \".join([i for i in ctext]) # joining the cleaned words to text\n",
    "    \n",
    "    \n",
    "\n",
    "stop=set(stopwords.words('english'))\n",
    "print(stop)\n",
    "stop.remove('no')\n",
    "stop.remove('not')\n",
    "stop.remove('nor')\n",
    "\n",
    "preprocessed_essays = []\n",
    "for sentance in data['uncleanedreview'].values:\n",
    "    try:\n",
    "        ctxt=datapreprocess(str(sentance))\n",
    "        if len(ctxt)==0: raise()\n",
    "        ctxt = ' '.join(e for e in ctxt.split() if e not in stop)\n",
    "        preprocessed_essays.append(ctxt.lower().strip())\n",
    "    except:\n",
    "        preprocessed_essays.append(\"NAN\")  \n",
    "data['cleanedtext'] = preprocessed_essays\n",
    "data.drop(data[data[\"cleanedtext\"]==\"NAN\"].index,axis = 0,inplace = True) # deleting rows that have no text \n",
    "data=data.reset_index(drop='true') # after deleting rows index should be reset\n",
    "data['decision']= data['decision'].replace('positive',1)\n",
    "data['decision']= data['decision'].replace('negative',0)\n",
    "\n",
    "\n",
    "s = SnowballStemmer(\"english\")\n",
    "p=[]\n",
    "for i in data['cleanedtext'].values:\n",
    "    k=[]\n",
    "    for word in i.split():\n",
    "        k.append(s.stem(word))\n",
    "    l=' '.join(k)\n",
    "    p.append(l)\n",
    "\n",
    "data['j']=p\n",
    "\n",
    "data.to_csv (r'AmazonMobileDataCleaned.csv')"
   ]
  },
  {
   "cell_type": "markdown",
   "metadata": {},
   "source": [
    "# Splitting Cleaned dataset into Train & Test datasets"
   ]
  },
  {
   "cell_type": "code",
   "execution_count": 18,
   "metadata": {},
   "outputs": [
    {
     "name": "stdout",
     "output_type": "stream",
     "text": [
      "AmazonMobileDataSet size(after DataCleaning):  (5000, 5)\n",
      "Label size(after DataCleaning): (5000,)\n",
      "Features size(after DataCleaning): (5000, 4)\n",
      "------------------------------\n",
      "Input Train dataset size(after DataCleaning): (4000, 4)\n",
      "Input Test dataset size(after DataCleaning): (1000, 4)\n",
      "Output Train dataset size: (4000,)\n",
      "Output Test dataset size: (1000,)\n"
     ]
    }
   ],
   "source": [
    "data=pd.read_csv('AmazonMobileDataCleaned.csv',nrows = 5000) #since svm requires high speed processing computer, here we take only 5000 rows\n",
    "print(\"AmazonMobileDataSet size(after DataCleaning): \",data.shape)\n",
    "label = data['decision'].values\n",
    "features = data.drop(['decision'], axis=1) #seperate output column\n",
    "print(\"Label size(after DataCleaning):\",label.shape)\n",
    "print(\"Features size(after DataCleaning):\",features.shape)\n",
    "print(\"------------------------------\")\n",
    "\n",
    "from sklearn.model_selection import train_test_split\n",
    "# random_state : DEFAULT = None\n",
    "# random_state in train_test_split = 3 or AnyInteger : Reproducing the same dataset into Train and Test, everytime you run this cell\n",
    "inputtrain, inputtest, outputtrain, outputtest = train_test_split(features, label, test_size=0.20, stratify=label)\n",
    "print(\"Input Train dataset size(after DataCleaning):\",inputtrain.shape)\n",
    "print(\"Input Test dataset size(after DataCleaning):\",inputtest.shape)\n",
    "print(\"Output Train dataset size:\",outputtrain.shape)\n",
    "print(\"Output Test dataset size:\",outputtest.shape)"
   ]
  },
  {
   "cell_type": "markdown",
   "metadata": {},
   "source": [
    "# DataPreprocessing(BagOfWords) on Cleaned Train & Test datasets"
   ]
  },
  {
   "cell_type": "code",
   "execution_count": 19,
   "metadata": {},
   "outputs": [
    {
     "name": "stdout",
     "output_type": "stream",
     "text": [
      "After vectorizations\n",
      "Input Train dataset size(after DataCleaning & DataPreprocessing): (4000, 2898)\n",
      "Input Test dataset size(after DataCleaning & DataPreprocessing): (1000, 2898)\n",
      "Output Train dataset size: (4000,)\n",
      "Output Test dataset size: (1000,)\n",
      "...............................\n"
     ]
    }
   ],
   "source": [
    "# convert into Bag of Words\n",
    "from sklearn.feature_extraction.text import CountVectorizer\n",
    "vec = CountVectorizer(min_df=10,ngram_range=(1,4))\n",
    "vec.fit(inputtrain['j'].values) # fit has to happen only on train data\n",
    "\n",
    "\n",
    "train_cleanedtext = vec.transform(inputtrain['j'].values)\n",
    "test_cleanedtext= vec.transform(inputtest['j'].values)\n",
    "\n",
    "print(\"After vectorizations\")\n",
    "print(\"Input Train dataset size(after DataCleaning & DataPreprocessing):\",train_cleanedtext.shape)\n",
    "print(\"Input Test dataset size(after DataCleaning & DataPreprocessing):\",test_cleanedtext.shape)\n",
    "print(\"Output Train dataset size:\",outputtrain.shape)\n",
    "print(\"Output Test dataset size:\",outputtest.shape)\n",
    "print(\"...............................\")"
   ]
  },
  {
   "cell_type": "markdown",
   "metadata": {},
   "source": [
    "# Use GridSearchCV() to find best value for hyper-parameter(C)"
   ]
  },
  {
   "cell_type": "code",
   "execution_count": 20,
   "metadata": {},
   "outputs": [
    {
     "data": {
      "image/png": "[encoded data removed]",
      "text/plain": [
       "<Figure size 432x288 with 1 Axes>"
      ]
     },
     "metadata": {
      "needs_background": "light"
     },
     "output_type": "display_data"
    },
    {
     "name": "stdout",
     "output_type": "stream",
     "text": [
      "Best C value for SVM Model: 0.01\n",
      "ROCAUC value for SVM Model which has Best hyper-parameter i.e C=0.01 : 0.868311467162042\n",
      "best C log value\n",
      "-2.0\n"
     ]
    }
   ],
   "source": [
    "# Packages required\n",
    "# some of the code taken from stack overflow\n",
    "import math\n",
    "from sklearn.model_selection import GridSearchCV\n",
    "from sklearn.svm import SVC\n",
    "import numpy as np\n",
    "import matplotlib.pyplot as plt\n",
    "\n",
    "#https://scikit-learn.org/stable/modules/generated/sklearn.svm.SVC.html\n",
    "# NOTE: we can also use linear_model.SGDClassifier(loss='hinge',max_iter=5000,penalty='l2') ---> If the Original dataSet is Linearly seperable\n",
    "neigh = SVC(kernel = 'linear')\n",
    "\n",
    "C=np.array([0.00001,0.0001,0.001,0.01,0.1,1,10,100,1000,10000]) # Different C values\n",
    "tuned_parameters = {'C' : C} \n",
    "\n",
    "\n",
    "clf = GridSearchCV(neigh, tuned_parameters, cv=5, scoring='roc_auc',return_train_score='true') \n",
    "clf.fit(train_cleanedtext, outputtrain)\n",
    "\n",
    "results = pd.DataFrame.from_dict(clf.cv_results_)#please check the output of cv_results_\n",
    "#  gridsearchcv execution will understand. concepts required KFold cross validation\n",
    "results = results.sort_values(['param_C'])\n",
    "\n",
    "train_auc= results['mean_train_score']\n",
    "\n",
    "cv_auc = results['mean_test_score'] \n",
    "\n",
    "k =  results['param_C']\n",
    "\n",
    "alpha1=[]\n",
    "for i in range(0,len(k),1):\n",
    "   l=math.log10(k[i])\n",
    "   alpha1.append(l)\n",
    "alpha1.sort()\n",
    "plt.plot(alpha1, train_auc, label='Train AUC')\n",
    "\n",
    "plt.plot(alpha1, cv_auc, label='CV AUC')\n",
    "\n",
    "plt.scatter(alpha1, train_auc, label='Train AUC points')\n",
    "plt.scatter(alpha1, cv_auc, label='CV AUC points')\n",
    "\n",
    "plt.legend()\n",
    "plt.xlabel(\" C: hyperparameter\")\n",
    "plt.ylabel(\"AUC\")\n",
    "# Model - SVM (Linear)\n",
    "# Different C value means - Model is trained using different functions(f)\n",
    "plt.title(\"ROCAUC Vs C plot trained using Linear SVM Model\")\n",
    "plt.grid()\n",
    "plt.show()\n",
    "\n",
    "# For SVM Models having different Hyper-parameter(C) values([0.00001,0.0001,0.001,0.01,0.1,1,10,100,1000,10000]), we have corresponding ROC plot(AUC value)\n",
    "# Among all the above SVM Model, we will be having Best Hyper-parameter(C) value that has Maximimum AUC for ROC plot\n",
    "# we choose that SVM Model which has BEST C(MAXIMUM AUC for ROC PLOTS)\n",
    "#print(clf.best_params_)\n",
    "print(\"Best C value for SVM Model:\",clf.best_params_['C']) \n",
    "print(f\"ROCAUC value for SVM Model which has Best hyper-parameter i.e C={clf.best_params_['C']} :\",clf.best_score_)\n",
    "print(\"best C log value\")\n",
    "C_log=math.log10(clf.best_params_.get('C'))\n",
    "print(C_log)"
   ]
  },
  {
   "cell_type": "markdown",
   "metadata": {},
   "source": [
    "# Use best hyper-parameter(C) in SVM Model & Train the model, compute best threshold. Plot the confusion matrix for that best threshold"
   ]
  },
  {
   "cell_type": "code",
   "execution_count": 21,
   "metadata": {},
   "outputs": [
    {
     "name": "stdout",
     "output_type": "stream",
     "text": [
      "--------------------\n",
      "SVM Model trained using best hyper-parameter i.e C=0.01\n",
      "--------------------\n"
     ]
    },
    {
     "data": {
      "image/png": "[encoded data removed]",
      "text/plain": [
       "<Figure size 432x288 with 1 Axes>"
      ]
     },
     "metadata": {
      "needs_background": "light"
     },
     "output_type": "display_data"
    },
    {
     "name": "stdout",
     "output_type": "stream",
     "text": [
      "---------------------------------------------------\n",
      "SVM Model trained using best hyper-parameter C i.e C=0.01\n",
      "Best Threshold value is 0.731 which has maximum value of tpr*(1-fpr)=0.819644723092999\n",
      "\n",
      "Train confusion matrix for best threshold value(0.7308807134894092)\n"
     ]
    },
    {
     "data": {
      "image/png": "[encoded data removed]",
      "text/plain": [
       "<Figure size 432x288 with 2 Axes>"
      ]
     },
     "metadata": {
      "needs_background": "light"
     },
     "output_type": "display_data"
    },
    {
     "name": "stdout",
     "output_type": "stream",
     "text": [
      "Test confusion matrix for best threshold value(0.7308807134894092)\n"
     ]
    },
    {
     "data": {
      "image/png": "[encoded data removed]",
      "text/plain": [
       "<Figure size 432x288 with 2 Axes>"
      ]
     },
     "metadata": {
      "needs_background": "light"
     },
     "output_type": "display_data"
    }
   ],
   "source": [
    "\n",
    "from sklearn.metrics import roc_curve, auc\n",
    "import seaborn as sns\n",
    "from sklearn.calibration import CalibratedClassifierCV\n",
    "\n",
    "# NOTE: kernal=rbf must be same as used in GridSearchCV,\n",
    "# NOTE: C value must be the best hyper-parameter produced from previous step\n",
    "neigh = SVC(kernel = 'linear',C=clf.best_params_['C'])\n",
    "neigh.fit(train_cleanedtext, outputtrain)\n",
    "\n",
    "print(20*'-')\n",
    "print(f\"SVM Model trained using best hyper-parameter i.e C={clf.best_params_['C']}\")\n",
    "print(20*'-')\n",
    "\n",
    "clfcalibrated = CalibratedClassifierCV(neigh, cv=3, method='isotonic') # SVC() not produce probabilities value\n",
    "clfcalibrated.fit(train_cleanedtext, outputtrain)\n",
    "\n",
    "# Model SVM(linear) trained using best hyper-parameter(C) generates Predicted Probabilities for Train & Test Inputs.\n",
    "# We plot ROCAUC plot for the Linear SVM Model trained using best hyperparameter(C)\n",
    "# We identify BestThreshold value (np.argmax(tpr*(1-fpr)) for the Linear SVM Model trained using best hyperparameter(C)\n",
    "# Use that best threshold to generate confusion matrix for both Train & Test datasets\n",
    "\n",
    "y_train_pred = clfcalibrated.predict_proba(train_cleanedtext)[:,1] #generate probabilities for Training datasets   \n",
    "y_test_pred = clfcalibrated.predict_proba(test_cleanedtext)[:,1]\n",
    "#print(y_test_pred)\n",
    "train_fpr, train_tpr, tr_thresholds = roc_curve(outputtrain, y_train_pred)\n",
    "test_fpr, test_tpr, te_thresholds = roc_curve(outputtest, y_test_pred)\n",
    "\n",
    "plt.plot(train_fpr, train_tpr, label=\"train AUC =\"+str(auc(train_fpr, train_tpr)))\n",
    "plt.plot(test_fpr, test_tpr, label=\"test AUC =\"+str(auc(test_fpr, test_tpr)))\n",
    "plt.legend()\n",
    "plt.xlabel(\"FPR\")\n",
    "plt.ylabel(\"TPR\")\n",
    "# Model - SVM (Linear)\n",
    "# Different C value means - Model is trained using different functions\n",
    "plt.title(\"ROC PLOT for the Linear SVM Model trained using best hyperparameter(C)\")\n",
    "plt.grid()\n",
    "plt.show()\n",
    "\n",
    "\n",
    "def bestthreshold(threshould, fpr, tpr):# function to predict best threshold\n",
    "    t = threshould[np.argmax(tpr*(1-fpr))]\n",
    "    \n",
    "    #print(\"the maximum value of tpr*(1-fpr)\", max(tpr*(1-fpr)), \"for threshold\", np.round(t,3))\n",
    "    print(f\"SVM Model trained using best hyper-parameter C i.e C={clf.best_params_['C']}\")\n",
    "    print(f\"Best Threshold value is {np.round(t,3)} which has maximum value of tpr*(1-fpr)={max(tpr*(1-fpr))}\")\n",
    "    return t\n",
    "\n",
    "def predictusingbestt(proba, threshould):#prediction using best threshold\n",
    "    predictions = []\n",
    "    for i in proba:\n",
    "        if i>=threshould:\n",
    "            predictions.append(1)\n",
    "        else:\n",
    "            predictions.append(0)\n",
    "    return predictions\n",
    "\n",
    "print(\"---------------------------------------------------\")\n",
    "\n",
    "\n",
    "from sklearn.metrics import confusion_matrix\n",
    "best_t = bestthreshold(tr_thresholds, train_fpr, train_tpr) # Training FPR,TPR is considered for best threshold\n",
    "print(f\"\\nTrain confusion matrix for best threshold value({best_t})\")\n",
    "\n",
    "ax=sns.heatmap(confusion_matrix(outputtrain, predictusingbestt(y_train_pred, best_t)),annot=True,fmt='d')\n",
    "ax.set_ylim([0,2])\n",
    "\n",
    "plt.ylabel('actual values')\n",
    "plt.xlabel('predicted values')\n",
    "plt.show()\n",
    "print(f\"Test confusion matrix for best threshold value({best_t})\")\n",
    "\n",
    "\n",
    "bx=sns.heatmap(confusion_matrix(outputtest, predictusingbestt(y_test_pred, best_t)),annot=True,fmt='d')\n",
    "bx.set_ylim([0,2])\n",
    "\n",
    "plt.ylabel('actual values')\n",
    "plt.xlabel('predicted values')\n",
    "plt.show()"
   ]
  },
  {
   "cell_type": "code",
   "execution_count": null,
   "metadata": {},
   "outputs": [],
   "source": [
    "# Linear SVM works best for AmazonMobile datasets rather than Linear SVM Model\n",
    "# Maximum tpr*(1-fpr) = 0.819644723092999\n",
    "\n",
    "\n",
    "# ROC AUC value for both train & test dataset is similar(too close) using this Linear SVM Model"
   ]
  }
 ],
 "metadata": {
  "kernelspec": {
   "display_name": "Python 3",
   "language": "python",
   "name": "python3"
  },
  "language_info": {
   "codemirror_mode": {
    "name": "ipython",
    "version": 3
   },
   "file_extension": ".py",
   "mimetype": "text/x-python",
   "name": "python",
   "nbconvert_exporter": "python",
   "pygments_lexer": "ipython3",
   "version": "3.8.5"
  }
 },
 "nbformat": 4,
 "nbformat_minor": 2
}
