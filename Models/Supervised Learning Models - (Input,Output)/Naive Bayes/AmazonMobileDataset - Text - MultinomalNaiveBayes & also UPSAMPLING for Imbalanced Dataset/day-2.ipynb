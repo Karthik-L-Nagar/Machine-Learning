{
 "cells": [
  {
   "cell_type": "code",
   "execution_count": 15,
   "metadata": {},
   "outputs": [
    {
     "name": "stdout",
     "output_type": "stream",
     "text": [
      "enter a Color/Fruit/Animal name: TIGer\n",
      "Input you entered is : Tiger\n",
      "Animals\n",
      "enter 2 items from lists seperated by and: Tiger and Lion\n",
      "Input you entered is : Tiger\n",
      "Input you entered is : Lion\n",
      "Both are Animals\n"
     ]
    }
   ],
   "source": [
    "#1\n",
    "Colors = [\"Yellow\",\"Green\",\"White\",\"Black\"]\n",
    "Fruits=[\"Apple\",\"Papaya\",\"Mango\",\"Orange\"]\n",
    "Animals=[\"Tiger\",\"Lion\",\"Deer\",\"Zebra\"]\n",
    "\n",
    "def formatconverter(findout):\n",
    "    findout_letter_1 = findout[0].upper()\n",
    "    findout_remaining_letters = findout[1:].lower()\n",
    "    find = findout_letter_1 + findout_remaining_letters\n",
    "    print(\"Input you entered is :\", find)\n",
    "    return find\n",
    "\n",
    "\n",
    "#  i. Write a program that asks user to enter a Color/Fruit/Animal name and it should tell which category belongs to , like its is a fruit or color or Animal\n",
    "findout = input(\"enter a Color/Fruit/Animal name: \")\n",
    "find = formatconverter(findout)\n",
    "if find in Colors:\n",
    "    print(\"Colors\")\n",
    "elif find in Fruits:\n",
    "    print(\"Fruits\")\n",
    "elif find in Animals:\n",
    "    print(\"Animals\")\n",
    "else:\n",
    "    print(\"input entered not found in any of 3 lists\")\n",
    "    \n",
    "#ii. Write a program that asks user to enter two items and it tells you if they both are in same category or not. For example if I enter yellow and Black, it will print \"Both are colors\" but if I enter yellow and Tiger it should print \"They don't belong to same category\"\n",
    "findout = input(\"enter 2 items from lists seperated by and: \").split()\n",
    "find1 = formatconverter(findout[0])\n",
    "find2 = formatconverter(findout[-1])\n",
    "\n",
    "if find1 in Colors and find2 in Colors:\n",
    "    print(\"Both are colors\")\n",
    "elif find1 in Fruits and find2 in Fruits:\n",
    "    print(\"Both are Fruits\")\n",
    "elif find1 in Animals and find2 in Animals:\n",
    "    print(\"Both are Animals\")\n",
    "else:\n",
    "    print(\"They don't belong to same category\")"
   ]
  },
  {
   "cell_type": "code",
   "execution_count": 11,
   "metadata": {},
   "outputs": [
    {
     "name": "stdout",
     "output_type": "stream",
     "text": [
      "Enter your score: 100\n",
      "good\n"
     ]
    }
   ],
   "source": [
    "#2\n",
    "score = int(input(\"Enter your score: \"))\n",
    "\n",
    "if score < 40:\n",
    "    print(\"low\")\n",
    "elif score > 60:\n",
    "    print(\"good\")\n",
    "else:\n",
    "    print(\"normal\")"
   ]
  },
  {
   "cell_type": "code",
   "execution_count": 13,
   "metadata": {},
   "outputs": [
    {
     "name": "stdout",
     "output_type": "stream",
     "text": [
      "4\n"
     ]
    }
   ],
   "source": [
    "#3\n",
    "\n",
    "result = [\"Pass\",\"Fail\",\"Fail\",\"Pass\",\"Fail\",\"Pass\",\"Pass\",\"Fail\",\"Fail\",\"Fail\"]\n",
    "count = 0\n",
    "\n",
    "for i in result:\n",
    "    if i == \"Pass\":\n",
    "        count = count + 1\n",
    "print(count)"
   ]
  },
  {
   "cell_type": "code",
   "execution_count": null,
   "metadata": {},
   "outputs": [],
   "source": []
  }
 ],
 "metadata": {
  "kernelspec": {
   "display_name": "Python 3",
   "language": "python",
   "name": "python3"
  },
  "language_info": {
   "codemirror_mode": {
    "name": "ipython",
    "version": 3
   },
   "file_extension": ".py",
   "mimetype": "text/x-python",
   "name": "python",
   "nbconvert_exporter": "python",
   "pygments_lexer": "ipython3",
   "version": "3.8.5"
  }
 },
 "nbformat": 4,
 "nbformat_minor": 4
}
