{
 "cells": [
  {
   "cell_type": "code",
   "execution_count": 1,
   "metadata": {},
   "outputs": [
    {
     "name": "stderr",
     "output_type": "stream",
     "text": [
      "[nltk_data] Downloading package stopwords to C:\\Users\\Shashank\n",
      "[nltk_data]     L\\AppData\\Roaming\\nltk_data...\n",
      "[nltk_data]   Unzipping corpora\\stopwords.zip.\n"
     ]
    },
    {
     "data": {
      "text/plain": [
       "True"
      ]
     },
     "execution_count": 1,
     "metadata": {},
     "output_type": "execute_result"
    }
   ],
   "source": [
    "import nltk\n",
    "nltk.download('stopwords')"
   ]
  },
  {
   "cell_type": "code",
   "execution_count": 17,
   "metadata": {},
   "outputs": [
    {
     "name": "stdout",
     "output_type": "stream",
     "text": [
      "StopWords: {'off', 'm', 'by', 'until', 'our', 'they', 's', 'a', 'under', \"couldn't\", 'there', 'is', \"that'll\", 'did', 'had', 'theirs', 'out', 'once', 'she', 'wasn', \"should've\", \"aren't\", \"mustn't\", 'weren', 'or', 'yours', 'who', 'shan', 'doing', 'other', 'and', 'was', 'ourselves', \"won't\", \"you're\", 'this', 'between', 'o', 'does', \"doesn't\", \"she's\", \"didn't\", 'what', 'are', \"hadn't\", 'aren', 'doesn', 'own', \"needn't\", 'himself', \"you've\", 'the', 'each', 'having', 'at', 'in', 'themselves', 'them', 'than', 'down', 'against', 'more', \"shan't\", 'during', 'yourselves', 'should', 'your', 'been', 'isn', \"haven't\", \"shouldn't\", 'those', 'when', 'then', 'only', 'it', 'after', 'both', 'do', 'an', 'so', 'be', 'whom', 'being', 'were', 'here', 'ain', 'will', 'am', \"you'd\", 'further', 'didn', 'ma', 'again', 'over', 'nor', 'above', 'myself', 'how', 'mightn', 'wouldn', 'shouldn', 'him', 'with', 'any', 'not', 'yourself', 'd', 'you', \"you'll\", \"wasn't\", 'her', \"it's\", \"don't\", 've', 'he', 'because', 'no', 'that', 'mustn', 'haven', 'couldn', 'through', 're', 't', 'which', 'll', 'hasn', 'its', 'itself', 'but', \"hasn't\", 'about', 'i', 'just', \"wouldn't\", 'y', 'into', 'for', 'won', 'some', 'most', 'why', 'on', 'needn', 'up', 'same', 'his', 'such', \"mightn't\", 'while', 'me', 'below', 'we', 'if', 'ours', 'has', 'their', 'very', \"isn't\", 'too', 'all', 'few', 'hers', 'as', 'before', 'from', 'hadn', 'where', 'now', 'to', 'can', 'don', 'have', 'herself', 'my', \"weren't\", 'these', 'of'}\n",
      "                                         Description\n",
      "0  the product has been very good i had used this...\n",
      "1  i highly doubt this phone is a genuine nokia p...\n",
      "['product good used cell phone one projects worked wonders definitely recommend anyone interested buying', 'highly doubt phone genuine nokia product battery door not fit properly battery fits plastic guard side opposite contacts separated inserting battery due poor fit not nokia quality used must sort clone packaging looks authentic albeit generic totally disappointed purchase']\n"
     ]
    }
   ],
   "source": [
    "from nltk.corpus import stopwords\n",
    "stop=set(stopwords.words('english'))\n",
    "print(\"StopWords:\", stop)\n",
    "import pandas as pd\n",
    "data=pd.read_csv('stopwords_present.csv')#read into DataFrame\n",
    "print(data)\n",
    "stop.remove('no')#remove 'no' & 'not' from the set of stopwords\n",
    "stop.remove('not')\n",
    "p=[]\n",
    "for feedbak in (data['Description'].values):\n",
    "    remove = ' '.join(e for e in feedbak.split() if e not in stop) # we are joining the iterator generator using ' '\n",
    "    p.append(remove.lower().strip())\n",
    "print(p)\n",
    "data['removestop'] = p\n",
    "data.to_csv (r'stopwords_removed.csv')"
   ]
  },
  {
   "cell_type": "code",
   "execution_count": null,
   "metadata": {},
   "outputs": [],
   "source": []
  },
  {
   "cell_type": "code",
   "execution_count": null,
   "metadata": {},
   "outputs": [],
   "source": []
  },
  {
   "cell_type": "code",
   "execution_count": null,
   "metadata": {},
   "outputs": [],
   "source": []
  },
  {
   "cell_type": "code",
   "execution_count": null,
   "metadata": {},
   "outputs": [],
   "source": []
  },
  {
   "cell_type": "code",
   "execution_count": null,
   "metadata": {},
   "outputs": [],
   "source": []
  },
  {
   "cell_type": "code",
   "execution_count": null,
   "metadata": {},
   "outputs": [],
   "source": []
  },
  {
   "cell_type": "code",
   "execution_count": null,
   "metadata": {},
   "outputs": [],
   "source": []
  },
  {
   "cell_type": "code",
   "execution_count": 4,
   "metadata": {},
   "outputs": [
    {
     "data": {
      "text/plain": [
       "array(['the product has been very good i had used this cell phone in one of my projects and it worked wonders i will definitely recommend this to anyone interested in buying it',\n",
       "       'i highly doubt this phone is a genuine nokia product the battery door does not fit properly the battery fits but the plastic guard on the side opposite the contacts is separated once inserting the battery due to poor fit this is not nokia quality your used to it must be some sort of a clone packaging looks authentic albeit generic totally disappointed by this purchase'],\n",
       "      dtype=object)"
      ]
     },
     "execution_count": 4,
     "metadata": {},
     "output_type": "execute_result"
    }
   ],
   "source": [
    "data['Description'].values"
   ]
  },
  {
   "cell_type": "code",
   "execution_count": 14,
   "metadata": {},
   "outputs": [],
   "source": [
    "remove = (e for e in data['Description'].values[0].split() if e not in stop)#generator"
   ]
  },
  {
   "cell_type": "code",
   "execution_count": 16,
   "metadata": {},
   "outputs": [
    {
     "name": "stdout",
     "output_type": "stream",
     "text": [
      "product\n",
      "good\n",
      "used\n",
      "cell\n",
      "phone\n",
      "one\n",
      "projects\n",
      "worked\n",
      "wonders\n",
      "definitely\n",
      "recommend\n",
      "anyone\n",
      "interested\n",
      "buying\n"
     ]
    }
   ],
   "source": [
    "for i in remove:\n",
    "    print(i)"
   ]
  },
  {
   "cell_type": "code",
   "execution_count": null,
   "metadata": {},
   "outputs": [],
   "source": []
  }
 ],
 "metadata": {
  "kernelspec": {
   "display_name": "Python 3",
   "language": "python",
   "name": "python3"
  },
  "language_info": {
   "codemirror_mode": {
    "name": "ipython",
    "version": 3
   },
   "file_extension": ".py",
   "mimetype": "text/x-python",
   "name": "python",
   "nbconvert_exporter": "python",
   "pygments_lexer": "ipython3",
   "version": "3.8.5"
  }
 },
 "nbformat": 4,
 "nbformat_minor": 2
}
