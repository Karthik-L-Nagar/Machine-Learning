{
 "cells": [
  {
   "cell_type": "code",
   "execution_count": null,
   "metadata": {},
   "outputs": [],
   "source": [
    "conda install -c anaconda gensim"
   ]
  },
  {
   "cell_type": "code",
   "execution_count": 9,
   "metadata": {},
   "outputs": [
    {
     "name": "stdout",
     "output_type": "stream",
     "text": [
      "Column Features:\n",
      " ['this', 'product', 'is', 'good', 'and', 'i', 'like', 'very', 'much', 'nice', 'hate', 'the', 'phone', 'works', 'well', 'dislike']\n",
      "2d vector value of word \"like\": (2,)\n",
      "Similar words w.r.t \"like\": [('nice', 0.9388697147369385), ('hate', 0.8988867402076721), ('dislike', 0.8549845814704895), ('phone', 0.6541223526000977), ('this', 0.5659125447273254), ('much', 0.48574450612068176), ('well', 0.22928395867347717), ('product', 0.14647570252418518), ('is', 0.11507090926170349), ('works', -0.061796724796295166)]\n"
     ]
    },
    {
     "name": "stderr",
     "output_type": "stream",
     "text": [
      "<ipython-input-9-0d6ba6e5a90d>:15: DeprecationWarning: Call to deprecated `most_similar` (Method will be removed in 4.0.0, use self.wv.most_similar() instead).\n",
      "  print('Similar words w.r.t \"like\":',model.most_similar('like'))\n"
     ]
    }
   ],
   "source": [
    "from gensim.models import Word2Vec\n",
    "# define training data\n",
    "sentences = [['this','product','is', 'good', 'and', 'i','like','this','very','much'],['this', 'product', 'is', 'nice'],\n",
    "['i', 'hate', 'this','product'],['the', 'phone', 'works','well'],['i', 'dislike', 'this', 'phone']]\n",
    "\n",
    "\n",
    "#min_count - consider a word that occurs atleast once in any documents of documents corpus\n",
    "#size - dimention in which word has to be represented\n",
    "model = Word2Vec(sentences, min_count=1,size=2)# train model\n",
    "# summarize vocabulary\n",
    "words = list(model.wv.vocab)\n",
    "print('Word2Vec feature_names:\\n', words)\n",
    "# access vector for one word\n",
    "print('2d vector value of word \\\"like\\\":',model.wv['like'])#get the vector value of word 'like'\n",
    "print('Similar words w.r.t \"like\":',model.most_similar('like'))"
   ]
  },
  {
   "cell_type": "code",
   "execution_count": 5,
   "metadata": {},
   "outputs": [
    {
     "name": "stderr",
     "output_type": "stream",
     "text": [
      "<ipython-input-5-a1d527518e20>:10: DeprecationWarning: Call to deprecated `__getitem__` (Method will be removed in 4.0.0, use self.wv.__getitem__() instead).\n",
      "  X = model[model.wv.vocab]\n"
     ]
    },
    {
     "data": {
      "image/png": "[encoded data removed]",
      "text/plain": [
       "<Figure size 432x288 with 1 Axes>"
      ]
     },
     "metadata": {
      "needs_background": "light"
     },
     "output_type": "display_data"
    }
   ],
   "source": [
    "from gensim.models import Word2Vec\n",
    "from sklearn.decomposition import PCA\n",
    "from matplotlib import pyplot\n",
    "# define training data\n",
    "sentences = [['this', 'product', 'is', 'good', 'and', 'i', 'like','this','very','much'],['this', 'product', 'is', 'nice'],\n",
    "['i', 'hate', 'this','product'],['the', 'phone', 'works','well'],['i', 'dislike', 'this', 'phone']]\n",
    "# train model\n",
    "model = Word2Vec(sentences, min_count=1,size=50)\n",
    "# fit a 2d PCA model to the vectors\n",
    "X = model[model.wv.vocab]\n",
    "pca = PCA(n_components=2)\n",
    "result = pca.fit_transform(X)\n",
    "# create a scatter plot of the projection\n",
    "pyplot.scatter(result[:, 0], result[:, 1])\n",
    "words = list(model.wv.vocab)\n",
    "for i, word in enumerate(words):\n",
    "    pyplot.annotate(word, xy=(result[i, 0], result[i, 1]))\n",
    "pyplot.show()"
   ]
  },
  {
   "cell_type": "code",
   "execution_count": null,
   "metadata": {},
   "outputs": [],
   "source": [
    "#Training using google news & google docs\n",
    "#Caution: It requires 12GB of RAM\n",
    "import gensim.downloader as api\n",
    "\n",
    "wv = api.load('word2vec-google-news-300')\n",
    "\n",
    "vec_king = wv['king']\n",
    "------------------------------------------------\n",
    "from gensim.models import KeyedVectors\n",
    "# load the google word2vec model\n",
    "filename = 'GoogleNews-vectors-negative300.bin'\n",
    "model = KeyedVectors.load_word2vec_format(filename, binary=True)\n",
    "result = model.most_similar('king')#get the vector value of word 'king'\n",
    "print(result)"
   ]
  },
  {
   "cell_type": "code",
   "execution_count": 4,
   "metadata": {},
   "outputs": [
    {
     "name": "stdout",
     "output_type": "stream",
     "text": [
      "[('fantastic', 0.8816647529602051), ('good', 0.8496969938278198), ('wonderful', 0.8284097909927368), ('excellent', 0.8274784088134766), ('awesome', 0.8117212057113647), ('perfect', 0.8038425445556641), ('amazing', 0.7925463914871216), ('nice', 0.7681457996368408), ('decent', 0.7595925331115723), ('ok', 0.7212443947792053)]\n"
     ]
    }
   ],
   "source": [
    "import pandas as pd\n",
    "from gensim.models import Word2Vec\n",
    "import gensim\n",
    "data=pd.read_csv('word2vec_AmazonMobileDataCleanedFinal.csv')\n",
    "sentence_list=[]\n",
    "for sent in data['cleanedtext']:\n",
    "    sentence_list.append(sent.split(' '))\n",
    "w2v_model= gensim.models.Word2Vec(sentence_list,min_count=1,size=50)\n",
    "print(w2v_model.wv.most_similar('great'))"
   ]
  },
  {
   "cell_type": "code",
   "execution_count": 5,
   "metadata": {},
   "outputs": [
    {
     "name": "stdout",
     "output_type": "stream",
     "text": [
      "[('virgin', 0.7649283409118652), ('boost', 0.7594709396362305), ('cellular', 0.7279979586601257), ('providers', 0.7179362177848816), ('verizons', 0.7119923233985901), ('metropcs', 0.7091587781906128), ('tmo', 0.701468825340271), ('towers', 0.6981723308563232), ('prepaid', 0.6909446120262146), ('tracfone', 0.688508152961731)]\n"
     ]
    }
   ],
   "source": [
    "print(w2v_model.wv.most_similar('mobile'))"
   ]
  },
  {
   "cell_type": "code",
   "execution_count": 6,
   "metadata": {},
   "outputs": [
    {
     "name": "stdout",
     "output_type": "stream",
     "text": [
      "2d vector value of \"this\" is [-0.19044496 -0.20208769]\n",
      "2d vector value of \"product\" is [-0.03655922 -0.13222961]\n",
      "2d vector value of \"is\" is [-0.04805691 -0.0415631 ]\n",
      "2d vector value of \"good\" is [-0.24928075 -0.02148832]\n",
      "2d vector value of \"and\" is [0.23667577 0.19833177]\n",
      "2d vector value of \"i\" is [-0.15281524 -0.08101246]\n",
      "2d vector value of \"like\" is [0.09192023 0.08572356]\n",
      "2d vector value of \"this\" is [-0.19044496 -0.20208769]\n",
      "2d vector value of \"very\" is [-0.10462771  0.06809384]\n",
      "2d vector value of \"much\" is [-0.2173633   0.23203114]\n",
      "2d vector value of \"this\" is [-0.19044496 -0.20208769]\n",
      "2d vector value of \"product\" is [-0.03655922 -0.13222961]\n",
      "2d vector value of \"is\" is [-0.04805691 -0.0415631 ]\n",
      "2d vector value of \"nice\" is [ 0.04378988 -0.22248162]\n",
      "2d vector value of \"i\" is [-0.15281524 -0.08101246]\n",
      "2d vector value of \"hate\" is [ 0.17684528 -0.03167853]\n",
      "2d vector value of \"this\" is [-0.19044496 -0.20208769]\n",
      "2d vector value of \"product\" is [-0.03655922 -0.13222961]\n",
      "2d vector value of \"the\" is [-0.03420041 -0.0622419 ]\n",
      "2d vector value of \"phone\" is [-0.15611234 -0.14017904]\n",
      "2d vector value of \"works\" is [0.0706987  0.01953087]\n",
      "2d vector value of \"well\" is [ 0.02340273 -0.01080769]\n",
      "2d vector value of \"i\" is [-0.15281524 -0.08101246]\n",
      "2d vector value of \"dislike\" is [0.20032418 0.21833134]\n",
      "2d vector value of \"this\" is [-0.19044496 -0.20208769]\n",
      "2d vector value of \"phone\" is [-0.15611234 -0.14017904]\n",
      "No of documents in document corpus: 5\n",
      "average word2vec of each document in document corpus: [array([-0.0860997 , -0.00962885]), array([-0.0578178 , -0.14959051]), array([-0.05074353, -0.11175207]), array([-0.02405283, -0.04842444]), array([-0.07476209, -0.05123696])]\n",
      "Shape of average word2vec of each document in document corpus: (5, 2)\n"
     ]
    }
   ],
   "source": [
    "#https://medium.com/@ranasinghiitkgp/featurization-of-text-data-bow-tf-idf-avgw2v-tfidf-weighted-w2v-7a6c62e8b097\n",
    "\n",
    "#convert each document to average word2vec\n",
    "import numpy as np\n",
    "from gensim.models import Word2Vec\n",
    "sentences = [['this','product','is', 'good', 'and', 'i','like','this','very','much'],['this', 'product', 'is', 'nice'],\n",
    "['i', 'hate', 'this','product'],['the', 'phone', 'works','well'],['i', 'dislike', 'this', 'phone']]\n",
    "model = Word2Vec(sentences, min_count=1,size=2)\n",
    "sent_vectors = []; \n",
    "for sent in (sentences): \n",
    "    sent_vec = np.zeros(2) \n",
    "    cnt_words =0 \n",
    "    for word in sent: \n",
    "        if word in list(model.wv.vocab):\n",
    "            vec = model.wv[word]\n",
    "            print(f'2d vector value of \"{word}\" is {vec}')\n",
    "            sent_vec += vec\n",
    "            #print(sent_vec)\n",
    "            cnt_words += 1\n",
    "    if cnt_words != 0:\n",
    "        sent_vec /= cnt_words\n",
    "        #print(sent_vec)\n",
    "    sent_vectors.append(sent_vec)\n",
    "print('No of documents in document corpus:', len(sent_vectors))\n",
    "print('average word2vec of each document in document corpus:',sent_vectors)\n",
    "print('Shape of average word2vec of each document in document corpus:',np.asarray(sent_vectors).shape)"
   ]
  },
  {
   "cell_type": "code",
   "execution_count": 7,
   "metadata": {},
   "outputs": [
    {
     "name": "stdout",
     "output_type": "stream",
     "text": [
      "Word2Vec feature_names:\n",
      " ['this', 'mobile', 'is', 'good', 'not', 'works', 'fine', 'and', 'affordable', 'cheap', 'best']\n",
      "TFIDF feature_names:\n",
      " ['affordable', 'and', 'best', 'cheap', 'fine', 'good', 'is', 'mobile', 'not', 'this', 'works']\n",
      "2d vector value of \"this\" is [-0.19044496 -0.20208769]\n",
      "2d vector value of \"mobile\" is [-0.1580383  -0.20344922]\n",
      "2d vector value of \"is\" is [-0.0481459  -0.04151163]\n",
      "2d vector value of \"good\" is [-0.2493533  -0.02149457]\n",
      "2d vector value of \"this\" is [-0.19044496 -0.20208769]\n",
      "2d vector value of \"mobile\" is [-0.1580383  -0.20344922]\n",
      "2d vector value of \"is\" is [-0.0481459  -0.04151163]\n",
      "2d vector value of \"not\" is [-0.16938859  0.12842542]\n",
      "2d vector value of \"good\" is [-0.2493533  -0.02149457]\n",
      "2d vector value of \"this\" is [-0.19044496 -0.20208769]\n",
      "2d vector value of \"mobile\" is [-0.1580383  -0.20344922]\n",
      "2d vector value of \"works\" is [0.0706987  0.01953087]\n",
      "2d vector value of \"fine\" is [-0.17548512 -0.17923826]\n",
      "2d vector value of \"and\" is [0.23662041 0.19835407]\n",
      "2d vector value of \"affordable\" is [ 0.05817144 -0.07829024]\n",
      "2d vector value of \"mobile\" is [-0.1580383  -0.20344922]\n",
      "2d vector value of \"is\" is [-0.0481459  -0.04151163]\n",
      "2d vector value of \"cheap\" is [-0.14406879  0.05839725]\n",
      "2d vector value of \"and\" is [0.23662041 0.19835407]\n",
      "2d vector value of \"mobile\" is [-0.1580383  -0.20344922]\n",
      "2d vector value of \"is\" is [-0.0481459  -0.04151163]\n",
      "2d vector value of \"best\" is [0.06853341 0.14071803]\n",
      "No of documents in document corpus: 4\n",
      "TFIDF word2vec of each document in document corpus: [array([-0.16675   , -0.10769993]), array([-0.16748563, -0.04186867]), array([-0.01295134, -0.06401307]), array([-0.0460078 , -0.02357789])]\n",
      "Shape of TFIDF word2vec of each document in document corpus: (4, 2)\n"
     ]
    }
   ],
   "source": [
    "#convert each document to TFIDF word2vec\n",
    "import numpy as np\n",
    "from sklearn.feature_extraction.text import TfidfVectorizer\n",
    "from gensim.models import Word2Vec\n",
    "\n",
    "data=pd.read_csv('TFIDF_data.csv')\n",
    "sentences=[]\n",
    "for sent in data['test'].values:\n",
    "    senten= ' '.join(e for e in sent.split())\n",
    "    sentences.append(senten.lower().strip())\n",
    "\n",
    "sentence_list=[]\n",
    "for sent in sentences:\n",
    "    sentence_list.append(sent.split(' '))\n",
    "\n",
    "model = Word2Vec(sentence_list, min_count=1,size=2)#list of lists of strings as input\n",
    "\n",
    "tfidf = TfidfVectorizer()\n",
    "tfidf.fit(sentences)#Vectorizer accepts list of strings as input\n",
    "\n",
    "dictionary = dict(zip(tfidf.get_feature_names(), list(tfidf.idf_)))\n",
    "\n",
    "\n",
    "tfidf_feat = tfidf.get_feature_names() \n",
    "w2v_feat=list(model.wv.vocab)\n",
    "print('Word2Vec feature_names:\\n',w2v_feat)\n",
    "print('TFIDF feature_names:\\n',tfidf_feat)\n",
    "\n",
    "row=0\n",
    "tfidf_sent_vectors = []; \n",
    "for sent in (sentence_list): \n",
    "    sent_vec = np.zeros(2) \n",
    "    weight_sum =0; \n",
    "    for word in sent: \n",
    "        if word in list(model.wv.vocab) and word in tfidf_feat:\n",
    "            vec = model.wv[word]\n",
    "            print(f'2d vector value of \"{word}\" is {vec}')\n",
    "            # tf_idf = tf_idf_matrix[row, tfidf_feat.index(word)]\n",
    "            # to reduce the computation we are \n",
    "            # dictionary[word] = idf value of word in whole courpus\n",
    "            # (sent.count(word)/len(sent)) = tf valeus of word in this review\n",
    "            tf_idf = dictionary[word]*(sent.count(word)/len(sent))\n",
    "            sent_vec += (vec * tf_idf)\n",
    "            weight_sum += tf_idf\n",
    "    if weight_sum != 0:\n",
    "        sent_vec /= weight_sum\n",
    "    tfidf_sent_vectors.append(sent_vec)\n",
    "    row += 1\n",
    "print('No of documents in document corpus:',row)\n",
    "print('TFIDF word2vec of each document in document corpus:',tfidf_sent_vectors)\n",
    "print('Shape of TFIDF word2vec of each document in document corpus:',np.asarray(tfidf_sent_vectors).shape)"
   ]
  },
  {
   "cell_type": "code",
   "execution_count": 8,
   "metadata": {},
   "outputs": [
    {
     "data": {
      "text/plain": [
       "numpy.ndarray"
      ]
     },
     "execution_count": 8,
     "metadata": {},
     "output_type": "execute_result"
    }
   ],
   "source": [
    "type(np.asarray(tfidf_sent_vectors))"
   ]
  },
  {
   "cell_type": "code",
   "execution_count": null,
   "metadata": {},
   "outputs": [],
   "source": []
  }
 ],
 "metadata": {
  "kernelspec": {
   "display_name": "Python 3",
   "language": "python",
   "name": "python3"
  },
  "language_info": {
   "codemirror_mode": {
    "name": "ipython",
    "version": 3
   },
   "file_extension": ".py",
   "mimetype": "text/x-python",
   "name": "python",
   "nbconvert_exporter": "python",
   "pygments_lexer": "ipython3",
   "version": "3.8.5"
  }
 },
 "nbformat": 4,
 "nbformat_minor": 2
}
