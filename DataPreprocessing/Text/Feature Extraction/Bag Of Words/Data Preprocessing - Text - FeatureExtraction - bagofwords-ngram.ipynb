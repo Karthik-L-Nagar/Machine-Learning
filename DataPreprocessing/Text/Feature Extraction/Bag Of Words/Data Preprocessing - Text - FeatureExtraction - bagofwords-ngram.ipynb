{
 "cells": [
  {
   "cell_type": "code",
   "execution_count": 1,
   "metadata": {},
   "outputs": [
    {
     "name": "stdout",
     "output_type": "stream",
     "text": [
      "feedback:\n",
      " ['this mobile is good', 'this mobile is not good', 'this mobile works fine and affordable', 'mobile is cheap and mobile is best']\n",
      "feature names extracted from text:\n",
      " ['affordable', 'and', 'and affordable', 'and mobile', 'best', 'cheap', 'cheap and', 'fine', 'fine and', 'good', 'is', 'is best', 'is cheap', 'is good', 'is not', 'mobile', 'mobile is', 'mobile works', 'not', 'not good', 'this', 'this mobile', 'works', 'works fine']\n",
      "Sparse Matrix converted to array:\n",
      " [[0 0 0 0 0 0 0 0 0 1 1 0 0 1 0 1 1 0 0 0 1 1 0 0]\n",
      " [0 0 0 0 0 0 0 0 0 1 1 0 0 0 1 1 1 0 1 1 1 1 0 0]\n",
      " [1 1 1 0 0 0 0 1 1 0 0 0 0 0 0 1 0 1 0 0 1 1 1 1]\n",
      " [0 1 0 1 1 1 1 0 0 0 2 1 1 0 0 2 2 0 0 0 0 0 0 0]]\n"
     ]
    }
   ],
   "source": [
    "import pandas as pd\n",
    "from sklearn.feature_extraction.text import CountVectorizer\n",
    "data=pd.read_csv('bagOfWords_data.csv')\n",
    "feedback=[]\n",
    "for i in data['test'].values:\n",
    "    senten= ' '.join(e for e in i.split())\n",
    "    feedback.append(senten.lower().strip())\n",
    "print('feedback:\\n', feedback)\n",
    "v = CountVectorizer(ngram_range=(1,2))#ngram_range=(1,3)\n",
    "text_bow = v.fit_transform(feedback)\n",
    "print('feature names extracted from text:\\n',v.get_feature_names())\n",
    "print(\"Sparse Matrix converted to array:\\n\",text_bow.toarray())\n"
   ]
  },
  {
   "cell_type": "code",
   "execution_count": 5,
   "metadata": {},
   "outputs": [
    {
     "name": "stdout",
     "output_type": "stream",
     "text": [
      "feedback:\n",
      " ['this mobile is good', 'this mobile is not good', 'this mobile works fine and affordable', 'mobile is cheap and mobile is best']\n",
      "feature names extracted from text:\n",
      " ['affordable', 'and', 'and affordable', 'and mobile', 'best', 'cheap', 'cheap and', 'fine', 'fine and', 'good', 'is', 'is best', 'is cheap', 'is good', 'is not', 'mobile', 'mobile is', 'mobile works', 'not', 'not good', 'this', 'this mobile', 'works', 'works fine']\n",
      "[[0 0 0 0 0 0 0 0 0 0 1 0 0 0 0 0 0 0 0 0 0 0 0 0]]\n"
     ]
    }
   ],
   "source": [
    "import pandas as pd\n",
    "from sklearn.feature_extraction.text import CountVectorizer\n",
    "data=pd.read_csv('bagOfWords_data.csv')\n",
    "feedback=[]\n",
    "for i in data['test'].values:\n",
    "    senten= ' '.join(e for e in i.split())\n",
    "    feedback.append(senten.lower().strip())\n",
    "print('feedback:\\n', feedback)\n",
    "vec = CountVectorizer(ngram_range=(1,2))#ngram_range=(1,3)\n",
    "\n",
    "vec.fit(feedback) # fit has to happen only on train data\n",
    "print('feature names extracted from text:\\n',vec.get_feature_names())\n",
    "\n",
    "transform_data = ['worst is werwrwrrw']\n",
    "\n",
    "data_preprocessed = vec.transform(transform_data)\n",
    "print(data_preprocessed.toarray())"
   ]
  },
  {
   "cell_type": "code",
   "execution_count": null,
   "metadata": {},
   "outputs": [],
   "source": []
  }
 ],
 "metadata": {
  "kernelspec": {
   "display_name": "Python 3",
   "language": "python",
   "name": "python3"
  },
  "language_info": {
   "codemirror_mode": {
    "name": "ipython",
    "version": 3
   },
   "file_extension": ".py",
   "mimetype": "text/x-python",
   "name": "python",
   "nbconvert_exporter": "python",
   "pygments_lexer": "ipython3",
   "version": "3.8.5"
  }
 },
 "nbformat": 4,
 "nbformat_minor": 2
}
